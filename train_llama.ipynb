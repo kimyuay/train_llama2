{
 "cells": [
  {
   "cell_type": "code",
   "execution_count": 1,
   "id": "ba75b425-4ff3-43df-bd5c-542221dc7dcf",
   "metadata": {},
   "outputs": [
    {
     "name": "stderr",
     "output_type": "stream",
     "text": [
      "/usr/local/lib/python3.10/dist-packages/tqdm/auto.py:21: TqdmWarning: IProgress not found. Please update jupyter and ipywidgets. See https://ipywidgets.readthedocs.io/en/stable/user_install.html\n",
      "  from .autonotebook import tqdm as notebook_tqdm\n"
     ]
    }
   ],
   "source": [
    "from datasets import load_dataset, DatasetDict\n",
    "import torch\n",
    "from torch.utils.data import DataLoader\n",
    "from torch.optim import Adam\n",
    "from torch.nn import CrossEntropyLoss\n",
    "from transformers import AutoTokenizer\n",
    "from llama_model import *\n",
    "import numpy as np\n",
    "from tqdm import tqdm"
   ]
  },
  {
   "cell_type": "code",
   "execution_count": 2,
   "id": "2e0f206e-9dc7-40c2-b816-3f315ed9c081",
   "metadata": {},
   "outputs": [],
   "source": [
    "# Load the dataset\n",
    "dataset = load_dataset(\"prachathai67k\")"
   ]
  },
  {
   "cell_type": "code",
   "execution_count": 3,
   "id": "08c653ac-6650-486a-91b5-d285eb64393b",
   "metadata": {},
   "outputs": [],
   "source": [
    "# Load tokenizer\n",
    "tokenizer = AutoTokenizer.from_pretrained(\"pythainlp/thainer-corpus-v2-base-model\")"
   ]
  },
  {
   "cell_type": "code",
   "execution_count": 4,
   "id": "909acb54-51ba-48be-bf06-d4352343f603",
   "metadata": {},
   "outputs": [
    {
     "name": "stdout",
     "output_type": "stream",
     "text": [
      "['<s>', '▁สวัสดี', 'ชาวโลก', '</s>']\n"
     ]
    }
   ],
   "source": [
    "# test tokenizer\n",
    "test_text = \"สวัสดีชาวโลก\"\n",
    "test_tokens = tokenizer(test_text, add_special_tokens=True)\n",
    "print(tokenizer.convert_ids_to_tokens(test_tokens[\"input_ids\"]))"
   ]
  },
  {
   "cell_type": "code",
   "execution_count": 5,
   "id": "857c1deb-c7da-4619-b6ba-51cb05544251",
   "metadata": {},
   "outputs": [],
   "source": [
    "# reduce size of data\n",
    "reduced_train_dataset = dataset[\"train\"].select(range(5000)) # use 10k row\n",
    "reduced_validation_dataset = dataset[\"validation\"].select(range(1000))\n",
    "reduced_dataset = DatasetDict({\n",
    "    \"train\": reduced_train_dataset,\n",
    "    \"validation\": reduced_validation_dataset,\n",
    "})"
   ]
  },
  {
   "cell_type": "code",
   "execution_count": 6,
   "id": "ebed57d2-0393-4808-aae2-4bb62fe7e4a2",
   "metadata": {},
   "outputs": [],
   "source": [
    "def preprocess_data(data):\n",
    "    max_length = 16\n",
    "    # Tokenize the input text\n",
    "    inputs = tokenizer(data['body_text'], max_length=max_length, padding=\"max_length\", truncation=True, return_tensors=\"pt\")\n",
    "    # Create input_ids by excluding the last token\n",
    "    # Assuming the last token is not needed in input_ids for the input\n",
    "    input_ids = inputs.input_ids[:, 2:-2]  # Exclude the last token for input\n",
    "    # Create labels by excluding the first token and appending a new token at the end\n",
    "    # Assuming the first token is not needed in labels for the output\n",
    "    labels = inputs.input_ids[:, 3:-1]  # Exclude the first token for labels\n",
    "    \n",
    "    # Update inputs dictionary\n",
    "    inputs['input_ids'] = input_ids\n",
    "    inputs['labels'] = labels\n",
    "    return inputs"
   ]
  },
  {
   "cell_type": "code",
   "execution_count": 7,
   "id": "2e0649ed-2e1a-4d4d-8177-c2f7531799db",
   "metadata": {},
   "outputs": [
    {
     "name": "stderr",
     "output_type": "stream",
     "text": [
      "Map: 100%|████████████████████████████████████████████████████████████████████████████████████████████████████████████████████████████████████████████████████████████| 1000/1000 [00:00<00:00, 1122.91 examples/s]\n"
     ]
    },
    {
     "data": {
      "text/plain": [
       "DatasetDict({\n",
       "    train: Dataset({\n",
       "        features: ['input_ids', 'attention_mask', 'labels'],\n",
       "        num_rows: 5000\n",
       "    })\n",
       "    validation: Dataset({\n",
       "        features: ['input_ids', 'attention_mask', 'labels'],\n",
       "        num_rows: 1000\n",
       "    })\n",
       "})"
      ]
     },
     "execution_count": 7,
     "metadata": {},
     "output_type": "execute_result"
    }
   ],
   "source": [
    "tokenized_dataset = reduced_dataset.map(preprocess_data, batched=True, remove_columns=dataset[\"train\"].column_names)\n",
    "tokenized_dataset"
   ]
  },
  {
   "cell_type": "code",
   "execution_count": 8,
   "id": "239e78a3-693b-4045-a038-b4dd3319e0e3",
   "metadata": {},
   "outputs": [
    {
     "name": "stdout",
     "output_type": "stream",
     "text": [
      "input_ex: หน่วยงานความมั่นคงสั่งเบรคการนําเสนอรายงานละเมิดสิทธิมนุษยชนในรัฐกะเหรี่ยง อ้าง\n",
      "label_ex: ความมั่นคงสั่งเบรคการนําเสนอรายงานละเมิดสิทธิมนุษยชนในรัฐกะเหรี่ยง อ้างรัฐบาลพม่า\n"
     ]
    }
   ],
   "source": [
    "print(\"input_ex:\",tokenizer.decode(tokenized_dataset[\"train\"][1]['input_ids']))\n",
    "print(\"label_ex:\",tokenizer.decode(tokenized_dataset[\"train\"][1]['labels']))"
   ]
  },
  {
   "cell_type": "code",
   "execution_count": 9,
   "id": "d3edfdd4-efe6-4f79-85a9-51d6aa4bc6ce",
   "metadata": {},
   "outputs": [],
   "source": [
    "#reduce the size of the model since limit of GPU ram\n",
    "dim = 288\n",
    "n_layers =  6\n",
    "n_heads =  6\n",
    "n_kv_heads = n_heads\n",
    "multiple_of = 32\n",
    "dropout = 0.1\n",
    "max_seq_len = 350"
   ]
  },
  {
   "cell_type": "code",
   "execution_count": 10,
   "id": "3558642e-2f6e-4704-94a6-6487bfba1a19",
   "metadata": {},
   "outputs": [],
   "source": [
    "#set ModelArgs\n",
    "model_args = ModelArgs(\n",
    "    dim=dim,\n",
    "    n_layers=n_layers,\n",
    "    n_heads=n_heads,\n",
    "    n_kv_heads=n_heads,\n",
    "    vocab_size=tokenizer.vocab_size ,\n",
    "    multiple_of=multiple_of,\n",
    "    max_seq_len=max_seq_len,\n",
    "    dropout=dropout,\n",
    ") \n",
    "model = Transformer(model_args)"
   ]
  },
  {
   "cell_type": "code",
   "execution_count": 11,
   "id": "b63c5278-d00f-4d02-a999-d300e869dbab",
   "metadata": {},
   "outputs": [],
   "source": [
    "#Define optimizer and  loss_fn\n",
    "optimizer = Adam(model.parameters(), lr=5e-4)\n",
    "loss_fn = CrossEntropyLoss()"
   ]
  },
  {
   "cell_type": "code",
   "execution_count": 12,
   "id": "e835dda6-a82f-4016-9b3f-eee75d7eaf8c",
   "metadata": {},
   "outputs": [],
   "source": [
    "# set Dataloader of the training set and validation set\n",
    "batch_size = 1\n",
    "train_loader = DataLoader(tokenized_dataset[\"train\"], batch_size=batch_size, shuffle=True)\n",
    "val_loader = DataLoader(tokenized_dataset[\"validation\"], batch_size=batch_size)"
   ]
  },
  {
   "cell_type": "code",
   "execution_count": 13,
   "id": "cd775558-297d-489b-b9b1-eb5636c44ded",
   "metadata": {},
   "outputs": [],
   "source": [
    "def train_epoch(model, data_loader, loss_fn, optimizer, device, show_prediction):\n",
    "    model.train()\n",
    "    total_loss = 0\n",
    "    cnt_loop =0\n",
    "    for batch in tqdm(data_loader):\n",
    "        cnt_loop +=1\n",
    "        input_ids =torch.stack( batch['input_ids']).to(device)\n",
    "        labels = torch.stack(batch['labels']).to(device)\n",
    "        optimizer.zero_grad()\n",
    "        outputs = model(input_ids)\n",
    "        temperature=0.1\n",
    "        top_k=10\n",
    "        logits = outputs[:, -1, :]\n",
    "        logits = logits / temperature\n",
    "        v, _ = torch.topk(logits, min(top_k, logits.size(-1)))\n",
    "        logits[logits < v[:, [-1]]] = -float('Inf')\n",
    "        probs = F.softmax(logits, dim=-1)\n",
    "        next_token = torch.multinomial(probs, num_samples=1)\n",
    "\n",
    "        if (cnt_loop % show_prediction ==0):\n",
    "            print(\"Input:\",tokenizer.decode(input_ids.view(-1)))\n",
    "            print(\"Label:\",tokenizer.decode(labels.view(-1)))\n",
    "            print(\"Prediction:\",tokenizer.decode(next_token.view(-1)))\n",
    "\n",
    "        \n",
    "        loss = loss_fn(outputs.view(-1, model.vocab_size), labels.view(-1))\n",
    "        loss.backward()\n",
    "        optimizer.step()\n",
    "        \n",
    "        total_loss += loss.item()\n",
    "            \n",
    "    return total_loss / len(data_loader)\n",
    "\n",
    "def validate_epoch(model, data_loader, loss_fn, device):\n",
    "    model.eval()\n",
    "    total_loss = 0\n",
    "    with torch.no_grad():\n",
    "        for batch in tqdm(data_loader):\n",
    "            input_ids = torch.stack(batch['input_ids']).to(device)\n",
    "            labels = torch.stack(batch['labels']).to(device)\n",
    "            \n",
    "            outputs = model(input_ids)\n",
    "\n",
    "            temperature=0.1\n",
    "            top_k=10\n",
    "            logits = outputs[:, -1, :]\n",
    "            logits = logits / temperature\n",
    "            v, _ = torch.topk(logits, min(top_k, logits.size(-1)))\n",
    "            logits[logits < v[:, [-1]]] = -float('Inf')\n",
    "            probs = F.softmax(logits, dim=-1)\n",
    "            next_token = torch.multinomial(probs, num_samples=1)\n",
    "        \n",
    "            loss = loss_fn(outputs.view(-1, model.vocab_size), labels.view(-1))\n",
    "            total_loss += loss.item()\n",
    "    return total_loss / len(data_loader)"
   ]
  },
  {
   "cell_type": "code",
   "execution_count": 14,
   "id": "e3cb1540-56e5-4f93-b545-f56211c5a382",
   "metadata": {},
   "outputs": [
    {
     "data": {
      "text/plain": [
       "Transformer(\n",
       "  (tok_embeddings): Embedding(25005, 288)\n",
       "  (dropout): Dropout(p=0.1, inplace=False)\n",
       "  (layers): ModuleList(\n",
       "    (0-5): 6 x TransformerBlock(\n",
       "      (attention): Attention(\n",
       "        (wq): Linear(in_features=288, out_features=288, bias=False)\n",
       "        (wk): Linear(in_features=288, out_features=288, bias=False)\n",
       "        (wv): Linear(in_features=288, out_features=288, bias=False)\n",
       "        (wo): Linear(in_features=288, out_features=288, bias=False)\n",
       "        (attn_dropout): Dropout(p=0.1, inplace=False)\n",
       "        (resid_dropout): Dropout(p=0.1, inplace=False)\n",
       "      )\n",
       "      (feed_forward): FeedForward(\n",
       "        (w1): Linear(in_features=288, out_features=768, bias=False)\n",
       "        (w2): Linear(in_features=768, out_features=288, bias=False)\n",
       "        (w3): Linear(in_features=288, out_features=768, bias=False)\n",
       "        (dropout): Dropout(p=0.1, inplace=False)\n",
       "      )\n",
       "      (attention_norm): RMSNorm()\n",
       "      (ffn_norm): RMSNorm()\n",
       "    )\n",
       "  )\n",
       "  (norm): RMSNorm()\n",
       "  (output): Linear(in_features=288, out_features=25005, bias=False)\n",
       ")"
      ]
     },
     "execution_count": 14,
     "metadata": {},
     "output_type": "execute_result"
    }
   ],
   "source": [
    "device = torch.device(\"cuda\" if torch.cuda.is_available() else \"cpu\")\n",
    "model.to(device)"
   ]
  },
  {
   "cell_type": "code",
   "execution_count": 15,
   "id": "8c364ce6-6e29-444d-95c6-11fba051aaaa",
   "metadata": {
    "scrolled": true
   },
   "outputs": [
    {
     "name": "stderr",
     "output_type": "stream",
     "text": [
      " 20%|██████████████████████████████████▏                                                                                                                                       | 1005/5000 [00:38<02:11, 30.33it/s]"
     ]
    },
    {
     "name": "stdout",
     "output_type": "stream",
     "text": [
      "Input: ภาคใต้<unk>18 ก.ค. 2549 สมช\n",
      "Label: <unk>18 ก.ค. 2549 สมช.\n",
      "Prediction:   <unk>.. <unk> <unk> \n"
     ]
    },
    {
     "name": "stderr",
     "output_type": "stream",
     "text": [
      " 40%|████████████████████████████████████████████████████████████████████▏                                                                                                     | 2005/5000 [01:11<01:35, 31.37it/s]"
     ]
    },
    {
     "name": "stdout",
     "output_type": "stream",
     "text": [
      "Input: ถ้อยคําถาม เมื่อชุมชนจะมีการพัฒนาต่อไปด้วยการติดตั้งไฟฟ้า ย่อม\n",
      "Label: ถาม เมื่อชุมชนจะมีการพัฒนาต่อไปด้วยการติดตั้งไฟฟ้า ย่อมมีสิทธิ์\n",
      "Prediction:          มิ \n"
     ]
    },
    {
     "name": "stderr",
     "output_type": "stream",
     "text": [
      " 60%|██████████████████████████████████████████████████████████████████████████████████████████████████████                                                                    | 3003/5000 [01:49<01:30, 22.16it/s]"
     ]
    },
    {
     "name": "stdout",
     "output_type": "stream",
     "text": [
      "Input: ทางหลวงชนบทศึกษาลดวิกฤตจราจรทางหลวง 108 หวังแก้\n",
      "Label: ชนบทศึกษาลดวิกฤตจราจรทางหลวง 108 หวังแก้ย่าง\n",
      "Prediction:       พ พ  \n"
     ]
    },
    {
     "name": "stderr",
     "output_type": "stream",
     "text": [
      " 80%|████████████████████████████████████████████████████████████████████████████████████████████████████████████████████████████████████████                                  | 4001/5000 [02:32<00:44, 22.38it/s]"
     ]
    },
    {
     "name": "stdout",
     "output_type": "stream",
     "text": [
      "Input: ผลการศึกษาหลายสํานักพบคนทํางานชอบลางานในวันจันทร์มากที่สุด\n",
      "Label: หลายสํานักพบคนทํางานชอบลางานในวันจันทร์มากที่สุด \n",
      "Prediction:     .     \n"
     ]
    },
    {
     "name": "stderr",
     "output_type": "stream",
     "text": [
      "100%|██████████████████████████████████████████████████████████████████████████████████████████████████████████████████████████████████████████████████████████████████████████| 5000/5000 [03:15<00:00, 25.60it/s]\n"
     ]
    },
    {
     "name": "stdout",
     "output_type": "stream",
     "text": [
      "Input: หรือไม่ว่า...วัน หนึ่งความหวาดระแวงอาจทําให้ คนที่เคยจิบ\n",
      "Label: ว่า...วัน หนึ่งความหวาดระแวงอาจทําให้ คนที่เคยจิบกาแฟ\n",
      "Prediction:    ก    ก  \n"
     ]
    },
    {
     "name": "stderr",
     "output_type": "stream",
     "text": [
      "100%|██████████████████████████████████████████████████████████████████████████████████████████████████████████████████████████████████████████████████████████████████████████| 1000/1000 [00:19<00:00, 51.23it/s]\n"
     ]
    },
    {
     "name": "stdout",
     "output_type": "stream",
     "text": [
      "Epoch 1, Train Loss: 6.8715, Validation Loss: 6.5468\n",
      "Saved Best Train loss Model\n",
      "Saved Best Val loss Model\n"
     ]
    },
    {
     "name": "stderr",
     "output_type": "stream",
     "text": [
      " 20%|██████████████████████████████████                                                                                                                                        | 1002/5000 [00:42<02:28, 26.92it/s]"
     ]
    },
    {
     "name": "stdout",
     "output_type": "stream",
     "text": [
      "Input: ภาคใต้ - บุกยิง \"รักษาการส.ว.นร\n",
      "Label: - บุกยิง \"รักษาการส.ว.นรา\n",
      "Prediction:  <unk>   .ค ค.\n"
     ]
    },
    {
     "name": "stderr",
     "output_type": "stream",
     "text": [
      " 40%|████████████████████████████████████████████████████████████████████                                                                                                      | 2002/5000 [01:25<02:14, 22.24it/s]"
     ]
    },
    {
     "name": "stdout",
     "output_type": "stream",
     "text": [
      "Input: กองเศรษฐกิจสุขภาพฯ สธ. แจงสถานการณ์เงินบํารุง\n",
      "Label: เศรษฐกิจสุขภาพฯ สธ. แจงสถานการณ์เงินบํารุง \n",
      "Prediction:    พ. พ    \n"
     ]
    },
    {
     "name": "stderr",
     "output_type": "stream",
     "text": [
      " 60%|██████████████████████████████████████████████████████████████████████████████████████████████████████                                                                    | 3002/5000 [02:08<01:20, 24.87it/s]"
     ]
    },
    {
     "name": "stdout",
     "output_type": "stream",
     "text": [
      "Input: ประเทศแม่น้ําโขงตอนล่างกําลังเผชิญกับความผันผวนของแม่น้ําโขง ซึ่งเป็นผลกระทบข้ามพรมแดนที่\n",
      "Label: แม่น้ําโขงตอนล่างกําลังเผชิญกับความผันผวนของแม่น้ําโขง ซึ่งเป็นผลกระทบข้ามพรมแดนที่มีสาเหตุมา\n",
      "Prediction:            \n"
     ]
    },
    {
     "name": "stderr",
     "output_type": "stream",
     "text": [
      " 80%|████████████████████████████████████████████████████████████████████████████████████████████████████████████████████████████████████████                                  | 4001/5000 [02:50<00:44, 22.63it/s]"
     ]
    },
    {
     "name": "stdout",
     "output_type": "stream",
     "text": [
      "Input: 23 พ.ย. 2549 หลังจากที่คํากล่าวอ้าง\n",
      "Label: พ.ย. 2549 หลังจากที่คํากล่าวอ้างของ\n",
      "Prediction: พ.ค.คพ พ   \n"
     ]
    },
    {
     "name": "stderr",
     "output_type": "stream",
     "text": [
      "100%|██████████████████████████████████████████████████████████████████████████████████████████████████████████████████████████████████████████████████████████████████████████| 5000/5000 [03:33<00:00, 23.43it/s]\n"
     ]
    },
    {
     "name": "stdout",
     "output_type": "stream",
     "text": [
      "Input: องค์กรสตรีปะหล่องเผย ฝิ่นยังระบาดหนักใน\n",
      "Label: สตรีปะหล่องเผย ฝิ่นยังระบาดหนักในรัฐฉาน\n",
      "Prediction: แรงงาน     <unk>    บริหารส่วน\n"
     ]
    },
    {
     "name": "stderr",
     "output_type": "stream",
     "text": [
      "100%|██████████████████████████████████████████████████████████████████████████████████████████████████████████████████████████████████████████████████████████████████████████| 1000/1000 [00:19<00:00, 51.67it/s]\n"
     ]
    },
    {
     "name": "stdout",
     "output_type": "stream",
     "text": [
      "Epoch 2, Train Loss: 6.1073, Validation Loss: 6.5140\n",
      "Saved Best Train loss Model\n",
      "Saved Best Val loss Model\n"
     ]
    },
    {
     "name": "stderr",
     "output_type": "stream",
     "text": [
      " 20%|██████████████████████████████████                                                                                                                                        | 1002/5000 [00:42<03:08, 21.21it/s]"
     ]
    },
    {
     "name": "stdout",
     "output_type": "stream",
     "text": [
      "Input: ภาพประกอบจาก gotoknow.org ประชาไท - 4\n",
      "Label: จาก gotoknow.org ประชาไท - 4 \n",
      "Prediction:  พ ย     พ \n"
     ]
    },
    {
     "name": "stderr",
     "output_type": "stream",
     "text": [
      " 40%|████████████████████████████████████████████████████████████████████                                                                                                      | 2003/5000 [01:20<02:08, 23.37it/s]"
     ]
    },
    {
     "name": "stdout",
     "output_type": "stream",
     "text": [
      "Input: ผู้จัดการออนไลน์ 13 พฤศจิกายน 2548 17:29\n",
      "Label: ออนไลน์ 13 พฤศจิกายน 2548 17:29 \n",
      "Prediction: ออนไลน์ <unk> <unk> <unk> <unk>   \n"
     ]
    },
    {
     "name": "stderr",
     "output_type": "stream",
     "text": [
      " 60%|██████████████████████████████████████████████████████████████████████████████████████████████████████▏                                                                   | 3004/5000 [02:02<01:27, 22.84it/s]"
     ]
    },
    {
     "name": "stdout",
     "output_type": "stream",
     "text": [
      "Input: กรุงเทพฯ- 10 พ.ค.48 วันนี้ \n",
      "Label: - 10 พ.ค.48 วันนี้ สภา\n",
      "Prediction:  พ พ..  \" พ\n"
     ]
    },
    {
     "name": "stderr",
     "output_type": "stream",
     "text": [
      " 80%|████████████████████████████████████████████████████████████████████████████████████████████████████████████████████████████████████████                                  | 4002/5000 [02:44<00:46, 21.46it/s]"
     ]
    },
    {
     "name": "stdout",
     "output_type": "stream",
     "text": [
      "Input: เรื่องของการกระจายอํานาจได้มีการถูกหยิบยกขึ้นมาพูดกันอย่างกว้างขวางอีกครั้งหนึ่ง\n",
      "Label: การกระจายอํานาจได้มีการถูกหยิบยกขึ้นมาพูดกันอย่างกว้างขวางอีกครั้งหนึ่งเมื่อมีการ\n",
      "Prediction:   ประชาชน        \n"
     ]
    },
    {
     "name": "stderr",
     "output_type": "stream",
     "text": [
      "100%|██████████████████████████████████████████████████████████████████████████████████████████████████████████████████████████████████████████████████████████████████████████| 5000/5000 [03:27<00:00, 24.14it/s]\n"
     ]
    },
    {
     "name": "stdout",
     "output_type": "stream",
     "text": [
      "Input: สํานักข่าว <unk>izzima รายงานเมื่อวันที่ 13\n",
      "Label: <unk>izzima รายงานเมื่อวันที่ 13 \n",
      "Prediction: พ  า พ ที่ พ \n"
     ]
    },
    {
     "name": "stderr",
     "output_type": "stream",
     "text": [
      "100%|██████████████████████████████████████████████████████████████████████████████████████████████████████████████████████████████████████████████████████████████████████████| 1000/1000 [00:19<00:00, 51.59it/s]\n"
     ]
    },
    {
     "name": "stdout",
     "output_type": "stream",
     "text": [
      "Epoch 3, Train Loss: 5.8099, Validation Loss: 6.5702\n",
      "Saved Best Train loss Model\n"
     ]
    },
    {
     "name": "stderr",
     "output_type": "stream",
     "text": [
      " 20%|██████████████████████████████████▏                                                                                                                                       | 1004/5000 [00:42<02:39, 24.98it/s]"
     ]
    },
    {
     "name": "stdout",
     "output_type": "stream",
     "text": [
      "Input: สหภาพโฮยา' ร้อง 'ยิ่งลักษณ์' ครม\n",
      "Label: โฮยา' ร้อง 'ยิ่งลักษณ์' ครม.\n",
      "Prediction: ที่.กรณ์ พ สมศักดิ์  พ.\n"
     ]
    },
    {
     "name": "stderr",
     "output_type": "stream",
     "text": [
      " 40%|████████████████████████████████████████████████████████████████████                                                                                                      | 2002/5000 [01:24<02:06, 23.68it/s]"
     ]
    },
    {
     "name": "stdout",
     "output_type": "stream",
     "text": [
      "Input: เป็นเรื่องน่าตกใจ ที่อาจารย์สอนกฎหมายถูกทําร้ายร่างกายในรั้วโรงเรียน\n",
      "Label: น่าตกใจ ที่อาจารย์สอนกฎหมายถูกทําร้ายร่างกายในรั้วโรงเรียนกฎหมาย\n",
      "Prediction:  พ -  ://ที่ประเทศไทยวิทย์ \n"
     ]
    },
    {
     "name": "stderr",
     "output_type": "stream",
     "text": [
      " 60%|██████████████████████████████████████████████████████████████████████████████████████████████████████                                                                    | 3003/5000 [02:06<01:24, 23.49it/s]"
     ]
    },
    {
     "name": "stdout",
     "output_type": "stream",
     "text": [
      "Input: - 18 พ.ย.47 พล.ต\n",
      "Label: 18 พ.ย.47 พล.ต.\n",
      "Prediction: ก ก.. ..\n"
     ]
    },
    {
     "name": "stderr",
     "output_type": "stream",
     "text": [
      " 80%|████████████████████████████████████████████████████████████████████████████████████████████████████████████████████████████████████████                                  | 4003/5000 [02:48<00:45, 22.07it/s]"
     ]
    },
    {
     "name": "stdout",
     "output_type": "stream",
     "text": [
      "Input: <unk> ชี้แยกเงินเดือนบุคลากรจากงบเหมาจ่ายรายหัวไม่ได้\n",
      "Label: ชี้แยกเงินเดือนบุคลากรจากงบเหมาจ่ายรายหัวไม่ได้ช่วย\n",
      "Prediction: พ  ที่ของ  า   \n"
     ]
    },
    {
     "name": "stderr",
     "output_type": "stream",
     "text": [
      "100%|██████████████████████████████████████████████████████████████████████████████████████████████████████████████████████████████████████████████████████████████████████████| 5000/5000 [03:30<00:00, 23.74it/s]\n"
     ]
    },
    {
     "name": "stdout",
     "output_type": "stream",
     "text": [
      "Input: บทความชิ้นที่สามของ นิรมล ยุวนบุณย์\n",
      "Label: ชิ้นที่สามของ นิรมล ยุวนบุณย์ \n",
      "Prediction:    <unk>า <unk>ประ.  \n"
     ]
    },
    {
     "name": "stderr",
     "output_type": "stream",
     "text": [
      "100%|██████████████████████████████████████████████████████████████████████████████████████████████████████████████████████████████████████████████████████████████████████████| 1000/1000 [00:18<00:00, 53.43it/s]\n"
     ]
    },
    {
     "name": "stdout",
     "output_type": "stream",
     "text": [
      "Epoch 4, Train Loss: 5.5793, Validation Loss: 6.6221\n",
      "Saved Best Train loss Model\n"
     ]
    },
    {
     "name": "stderr",
     "output_type": "stream",
     "text": [
      " 20%|██████████████████████████████████                                                                                                                                        | 1003/5000 [00:41<02:51, 23.29it/s]"
     ]
    },
    {
     "name": "stdout",
     "output_type": "stream",
     "text": [
      "Input: สถาบันปรีดี พนมยงค์ ร่วมกับกองทุนศรีบูรพา จัดโครงการ\n",
      "Label: ปรีดี พนมยงค์ ร่วมกับกองทุนศรีบูรพา จัดโครงการการอบรม\n",
      "Prediction: กิจการก พ พ    พ  \n"
     ]
    },
    {
     "name": "stderr",
     "output_type": "stream",
     "text": [
      " 40%|████████████████████████████████████████████████████████████████████▏                                                                                                     | 2005/5000 [01:17<01:34, 31.83it/s]"
     ]
    },
    {
     "name": "stdout",
     "output_type": "stream",
     "text": [
      "Input: นราธิวาส- 4 พ.ค.48 เมื่อเวลา \n",
      "Label: - 4 พ.ค.48 เมื่อเวลา 06\n",
      "Prediction: - ก <unk>.ย.ย  ก\n"
     ]
    },
    {
     "name": "stderr",
     "output_type": "stream",
     "text": [
      " 60%|██████████████████████████████████████████████████████████████████████████████████████████████████████                                                                    | 3002/5000 [01:56<01:26, 23.08it/s]"
     ]
    },
    {
     "name": "stdout",
     "output_type": "stream",
     "text": [
      "Input: กองทัพฟ้องแผนแม่บท กสทช., <unk> ขอขยายเยียวยา\n",
      "Label: ฟ้องแผนแม่บท กสทช., <unk> ขอขยายเยียวยาคลื่น\n",
      "Prediction:   <unk>.ค <unk>    \n"
     ]
    },
    {
     "name": "stderr",
     "output_type": "stream",
     "text": [
      " 80%|████████████████████████████████████████████████████████████████████████████████████████████████████████████████████████████████████████                                  | 4002/5000 [02:38<00:40, 24.74it/s]"
     ]
    },
    {
     "name": "stdout",
     "output_type": "stream",
     "text": [
      "Input: รองคณบดีคณะมนุษยศาสตร์ฯ มข.ห้ามเอไอ\n",
      "Label: คณบดีคณะมนุษยศาสตร์ฯ มข.ห้ามเอไอ-\n",
      "Prediction: การเมืองที่  <unk>.าค พีา\n"
     ]
    },
    {
     "name": "stderr",
     "output_type": "stream",
     "text": [
      "100%|██████████████████████████████████████████████████████████████████████████████████████████████████████████████████████████████████████████████████████████████████████████| 5000/5000 [03:20<00:00, 24.93it/s]\n"
     ]
    },
    {
     "name": "stdout",
     "output_type": "stream",
     "text": [
      "Input: ตัดสินใจเขียนจดหมายนี้เพื่อลูกและเพื่อเด็กๆซึ่งกําลังเติบโตอีกหลายคน\n",
      "Label: เขียนจดหมายนี้เพื่อลูกและเพื่อเด็กๆซึ่งกําลังเติบโตอีกหลายคน \n",
      "Prediction:    สันติภาพ  สันติภาพความระกันสังคมเอชไอวี \n"
     ]
    },
    {
     "name": "stderr",
     "output_type": "stream",
     "text": [
      "100%|██████████████████████████████████████████████████████████████████████████████████████████████████████████████████████████████████████████████████████████████████████████| 1000/1000 [00:19<00:00, 51.95it/s]\n"
     ]
    },
    {
     "name": "stdout",
     "output_type": "stream",
     "text": [
      "Epoch 5, Train Loss: 5.3945, Validation Loss: 6.6057\n",
      "Saved Best Train loss Model\n"
     ]
    },
    {
     "name": "stderr",
     "output_type": "stream",
     "text": [
      " 20%|██████████████████████████████████                                                                                                                                        | 1003/5000 [00:42<02:55, 22.75it/s]"
     ]
    },
    {
     "name": "stdout",
     "output_type": "stream",
     "text": [
      "Input: ทางการพม่าเพิ่มมาตรการรักษาความปลอดภัยและกําลังพลทหารและตํารวจทั่วกรุงย่างกุ้ง โดยเฉพาะ\n",
      "Label: เพิ่มมาตรการรักษาความปลอดภัยและกําลังพลทหารและตํารวจทั่วกรุงย่างกุ้ง โดยเฉพาะรอบ\n",
      "Prediction: การ ตั้งขัดแย้ง จากพระชนมพรรษหลักการง จากที่\n"
     ]
    },
    {
     "name": "stderr",
     "output_type": "stream",
     "text": [
      " 40%|████████████████████████████████████████████████████████████████████                                                                                                      | 2002/5000 [01:25<02:06, 23.61it/s]"
     ]
    },
    {
     "name": "stdout",
     "output_type": "stream",
     "text": [
      "Input: คกก.ไอซีทีสรุปผลสอบสวนตามคําพิพากษาคดียึดทรัพย์พบไทย\n",
      "Label: กก.ไอซีทีสรุปผลสอบสวนตามคําพิพากษาคดียึดทรัพย์พบไทยคม\n",
      "Prediction: ..ค วัด       \n"
     ]
    },
    {
     "name": "stderr",
     "output_type": "stream",
     "text": [
      " 60%|██████████████████████████████████████████████████████████████████████████████████████████████████████▏                                                                   | 3004/5000 [02:07<01:22, 24.29it/s]"
     ]
    },
    {
     "name": "stdout",
     "output_type": "stream",
     "text": [
      "Input: วิทยาศาสตร์ว่าอย่างไรเกี่ยวกับความเชื่อมโยงระหว่างมลภาวะจากน้ํามือมนุษย์\n",
      "Label: ศาสตร์ว่าอย่างไรเกี่ยวกับความเชื่อมโยงระหว่างมลภาวะจากน้ํามือมนุษย์กับ\n",
      "Prediction: มหาวิทยาลั ของ สัมพันธ์ของ ที่  ดี \n"
     ]
    },
    {
     "name": "stderr",
     "output_type": "stream",
     "text": [
      " 80%|████████████████████████████████████████████████████████████████████████████████████████████████████████████████████████████████████████                                  | 4003/5000 [02:49<00:42, 23.34it/s]"
     ]
    },
    {
     "name": "stdout",
     "output_type": "stream",
     "text": [
      "Input: ภาพประกอบ: furnari [2] กระแสความ\n",
      "Label: : furnari [2] กระแสความคลั่ง\n",
      "Prediction:  กศงร ก ก คิดเห็น\n"
     ]
    },
    {
     "name": "stderr",
     "output_type": "stream",
     "text": [
      "100%|██████████████████████████████████████████████████████████████████████████████████████████████████████████████████████████████████████████████████████████████████████████| 5000/5000 [03:30<00:00, 23.71it/s]\n"
     ]
    },
    {
     "name": "stdout",
     "output_type": "stream",
     "text": [
      "Input: กอ.รมน.ยัน\"ร่มเกล้า\"เป้าล็อค \n",
      "Label: .รมน.ยัน\"ร่มเกล้า\"เป้าล็อค เชื่อ\n",
      "Prediction: .ค.   ดี\" อัน พ\n"
     ]
    },
    {
     "name": "stderr",
     "output_type": "stream",
     "text": [
      "100%|██████████████████████████████████████████████████████████████████████████████████████████████████████████████████████████████████████████████████████████████████████████| 1000/1000 [00:19<00:00, 51.24it/s]\n"
     ]
    },
    {
     "name": "stdout",
     "output_type": "stream",
     "text": [
      "Epoch 6, Train Loss: 5.2254, Validation Loss: 6.7958\n",
      "Saved Best Train loss Model\n"
     ]
    },
    {
     "name": "stderr",
     "output_type": "stream",
     "text": [
      " 20%|██████████████████████████████████                                                                                                                                        | 1003/5000 [00:42<02:45, 24.12it/s]"
     ]
    },
    {
     "name": "stdout",
     "output_type": "stream",
     "text": [
      "Input: กองทัพบก 241. พลเอก สนธิ บุญยรัต\n",
      "Label: 241. พลเอก สนธิ บุญยรัตก\n",
      "Prediction: พ  ก ก กยืน.า\n"
     ]
    },
    {
     "name": "stderr",
     "output_type": "stream",
     "text": [
      " 40%|████████████████████████████████████████████████████████████████████                                                                                                      | 2003/5000 [01:23<02:00, 24.82it/s]"
     ]
    },
    {
     "name": "stdout",
     "output_type": "stream",
     "text": [
      "Input: รองโฆษก ปชป. ชี้เกิดเหตุคนที่นนทบุรีเสียชีวิตจากไฟ\n",
      "Label: ปชป. ชี้เกิดเหตุคนที่นนทบุรีเสียชีวิตจากไฟดูด\n",
      "Prediction: <unk>. พ ความตก’   \n"
     ]
    },
    {
     "name": "stderr",
     "output_type": "stream",
     "text": [
      " 60%|██████████████████████████████████████████████████████████████████████████████████████████████████████                                                                    | 3002/5000 [02:05<01:31, 21.80it/s]"
     ]
    },
    {
     "name": "stdout",
     "output_type": "stream",
     "text": [
      "Input: 11.50 วันที่21 สิงหาคม 2548 ขณะที่นางดํา\n",
      "Label: 11.50 วันที่21 สิงหาคม 2548 ขณะที่นางดํา \n",
      "Prediction: พน   พ พ ความด \n"
     ]
    },
    {
     "name": "stderr",
     "output_type": "stream",
     "text": [
      " 80%|████████████████████████████████████████████████████████████████████████████████████████████████████████████████████████████████████████                                  | 4003/5000 [02:47<00:42, 23.33it/s]"
     ]
    },
    {
     "name": "stdout",
     "output_type": "stream",
     "text": [
      "Input: ท่ามกลางเสียงระเบิดและควันปืนที่ไม่เคยหยุดในสี่จังหวัดชายแดนภาคใต้\n",
      "Label: เสียงระเบิดและควันปืนที่ไม่เคยหยุดในสี่จังหวัดชายแดนภาคใต้เกือบ\n",
      "Prediction: การ  แรงงานซี 3.ผู้ ประเทศไทยคณะกรรมการยแดนภาคใต้ \n"
     ]
    },
    {
     "name": "stderr",
     "output_type": "stream",
     "text": [
      "100%|██████████████████████████████████████████████████████████████████████████████████████████████████████████████████████████████████████████████████████████████████████████| 5000/5000 [03:28<00:00, 23.98it/s]\n"
     ]
    },
    {
     "name": "stdout",
     "output_type": "stream",
     "text": [
      "Input: ผู้บริหาร ม.อ.ปัตตานี แจงหลัง 'กลุ่ม\n",
      "Label: ม.อ.ปัตตานี แจงหลัง 'กลุ่มไทย\n",
      "Prediction: พ..  พ  ทักษิณติดอาวุธ\n"
     ]
    },
    {
     "name": "stderr",
     "output_type": "stream",
     "text": [
      "100%|██████████████████████████████████████████████████████████████████████████████████████████████████████████████████████████████████████████████████████████████████████████| 1000/1000 [00:18<00:00, 53.18it/s]\n"
     ]
    },
    {
     "name": "stdout",
     "output_type": "stream",
     "text": [
      "Epoch 7, Train Loss: 5.0786, Validation Loss: 6.7805\n",
      "Saved Best Train loss Model\n"
     ]
    },
    {
     "name": "stderr",
     "output_type": "stream",
     "text": [
      " 20%|██████████████████████████████████▏                                                                                                                                       | 1004/5000 [00:41<02:52, 23.18it/s]"
     ]
    },
    {
     "name": "stdout",
     "output_type": "stream",
     "text": [
      "Input: นราธิวาส- 21 ก.พ.48 ผู้ว่าราช\n",
      "Label: - 21 ก.พ.48 ผู้ว่าราชการจังหวัด\n",
      "Prediction: - <unk> <unk>..  <unk>การ\n"
     ]
    },
    {
     "name": "stderr",
     "output_type": "stream",
     "text": [
      " 40%|████████████████████████████████████████████████████████████████████                                                                                                      | 2003/5000 [01:18<01:31, 32.69it/s]"
     ]
    },
    {
     "name": "stdout",
     "output_type": "stream",
     "text": [
      "Input: กรัฐมนตรีใช้ ม.44 ย้าย ขรก.-\n",
      "Label: ใช้ ม.44 ย้าย ขรก.-ผู้บริหาร\n",
      "Prediction:  พ. พ กม.  \n"
     ]
    },
    {
     "name": "stderr",
     "output_type": "stream",
     "text": [
      " 60%|██████████████████████████████████████████████████████████████████████████████████████████████████████                                                                    | 3001/5000 [01:55<01:21, 24.44it/s]"
     ]
    },
    {
     "name": "stdout",
     "output_type": "stream",
     "text": [
      "Input: ตัวชี้วัดหลักในการวัดความก้าวหน้าของระบบเศรษฐกิจปัจจุบัน คือ ผลิตภัณฑ์มวลรวมภายใน\n",
      "Label: หลักในการวัดความก้าวหน้าของระบบเศรษฐกิจปัจจุบัน คือ ผลิตภัณฑ์มวลรวมภายในประเทศ\n",
      "Prediction: ลุกลามวัดความคิดเห็น แรงงานไทย   ราชการกรุงสื่อข่าว \n"
     ]
    },
    {
     "name": "stderr",
     "output_type": "stream",
     "text": [
      " 80%|████████████████████████████████████████████████████████████████████████████████████████████████████████████████████████████████████████                                  | 4002/5000 [02:36<00:42, 23.55it/s]"
     ]
    },
    {
     "name": "stdout",
     "output_type": "stream",
     "text": [
      "Input: .ต.อ.วาสนา เพิ่มลาภ ประธานคณะกรรมการการ\n",
      "Label: ต.อ.วาสนา เพิ่มลาภ ประธานคณะกรรมการการเลือกตั้ง\n",
      "Prediction: ..  ก ผังเมือง สิทธิมนุษยเลือกตั้ง\n"
     ]
    },
    {
     "name": "stderr",
     "output_type": "stream",
     "text": [
      "100%|██████████████████████████████████████████████████████████████████████████████████████████████████████████████████████████████████████████████████████████████████████████| 5000/5000 [03:18<00:00, 25.21it/s]\n"
     ]
    },
    {
     "name": "stdout",
     "output_type": "stream",
     "text": [
      "Input: ชายไทยที่ทํางานในฟิลิปปินส์ถูกสํานักงานผู้อพยพสั่งให้ออกนอกประเทศ \n",
      "Label: ไทยที่ทํางานในฟิลิปปินส์ถูกสํานักงานผู้อพยพสั่งให้ออกนอกประเทศ เหตุ\n",
      "Prediction:   เอดส์จากดักคณะกรรมการ bความ ก\n"
     ]
    },
    {
     "name": "stderr",
     "output_type": "stream",
     "text": [
      "100%|██████████████████████████████████████████████████████████████████████████████████████████████████████████████████████████████████████████████████████████████████████████| 1000/1000 [00:19<00:00, 52.55it/s]\n"
     ]
    },
    {
     "name": "stdout",
     "output_type": "stream",
     "text": [
      "Epoch 8, Train Loss: 4.9366, Validation Loss: 6.8626\n",
      "Saved Best Train loss Model\n"
     ]
    },
    {
     "name": "stderr",
     "output_type": "stream",
     "text": [
      " 20%|██████████████████████████████████                                                                                                                                        | 1003/5000 [00:41<03:10, 21.00it/s]"
     ]
    },
    {
     "name": "stdout",
     "output_type": "stream",
     "text": [
      "Input: สนับสนุนและกลุ่มต่อต้านรัฐบาลอัสซาดของซีเรียหันไปปะทะกันในประเทศ\n",
      "Label: และกลุ่มต่อต้านรัฐบาลอัสซาดของซีเรียหันไปปะทะกันในประเทศเพื่อนบ้าน\n",
      "Prediction: ประเทศมักจะ sโนา  กลับไป  \n"
     ]
    },
    {
     "name": "stderr",
     "output_type": "stream",
     "text": [
      " 40%|████████████████████████████████████████████████████████████████████                                                                                                      | 2001/5000 [01:23<02:14, 22.34it/s]"
     ]
    },
    {
     "name": "stdout",
     "output_type": "stream",
     "text": [
      "Input: ก่อนหน้านี้มีสื่อต่างประเทศหลายแห่งแสดงความกังวลว่าเศรษฐกิจของจีนจะทรุดหนัก\n",
      "Label: นี้มีสื่อต่างประเทศหลายแห่งแสดงความกังวลว่าเศรษฐกิจของจีนจะทรุดหนัก อย่างไรก็\n",
      "Prediction: ศรีและ   เห็นรัฐพิเศษที่บันทึกภาพีย \n"
     ]
    },
    {
     "name": "stderr",
     "output_type": "stream",
     "text": [
      " 60%|██████████████████████████████████████████████████████████████████████████████████████████████████████                                                                    | 3003/5000 [02:05<01:17, 25.72it/s]"
     ]
    },
    {
     "name": "stdout",
     "output_type": "stream",
     "text": [
      "Input: สองวันที่ผ่านมาผมรู้สึกจิตใจไม่ค่อยจะสู้ดีนักกับเหตุการณ์ที่เกิดกับกลุ่ม\n",
      "Label: ที่ผ่านมาผมรู้สึกจิตใจไม่ค่อยจะสู้ดีนักกับเหตุการณ์ที่เกิดกับกลุ่มนักข่าว\n",
      "Prediction: ที่ผ่านมา เห่อการลดผ่านต์ การศึกษา  ของ \n"
     ]
    },
    {
     "name": "stderr",
     "output_type": "stream",
     "text": [
      " 80%|████████████████████████████████████████████████████████████████████████████████████████████████████████████████████████████████████████                                  | 4003/5000 [02:47<00:44, 22.18it/s]"
     ]
    },
    {
     "name": "stdout",
     "output_type": "stream",
     "text": [
      "Input: : เฟซบุ๊คของพูนสุข พูนสุขเจริญ ทนายความ\n",
      "Label: เฟซบุ๊คของพูนสุข พูนสุขเจริญ ทนายความของนาย\n",
      "Prediction: พประท้วงอัลลอฮฺร์ กร์  กเพื่อ\n"
     ]
    },
    {
     "name": "stderr",
     "output_type": "stream",
     "text": [
      "100%|██████████████████████████████████████████████████████████████████████████████████████████████████████████████████████████████████████████████████████████████████████████| 5000/5000 [03:24<00:00, 24.42it/s]\n"
     ]
    },
    {
     "name": "stdout",
     "output_type": "stream",
     "text": [
      "Input: ชํานาญ จันทร์เรือง หนึ่งในบรรดาข้อถกเถียงสําหรับสถานการณ์การเมืองไทยในปัจจุบัน\n",
      "Label: จันทร์เรือง หนึ่งในบรรดาข้อถกเถียงสําหรับสถานการณ์การเมืองไทยในปัจจุบัน ไม่มี\n",
      "Prediction: พสุ โครงการวิทยาของความการเมือง สัปดาห์นี้ \n"
     ]
    },
    {
     "name": "stderr",
     "output_type": "stream",
     "text": [
      "100%|██████████████████████████████████████████████████████████████████████████████████████████████████████████████████████████████████████████████████████████████████████████| 1000/1000 [00:17<00:00, 57.39it/s]\n"
     ]
    },
    {
     "name": "stdout",
     "output_type": "stream",
     "text": [
      "Epoch 9, Train Loss: 4.8023, Validation Loss: 6.8345\n",
      "Saved Best Train loss Model\n"
     ]
    },
    {
     "name": "stderr",
     "output_type": "stream",
     "text": [
      " 20%|██████████████████████████████████                                                                                                                                        | 1002/5000 [00:41<02:32, 26.19it/s]"
     ]
    },
    {
     "name": "stdout",
     "output_type": "stream",
     "text": [
      "Input: กป.อพช.ใต้ ร่วมศูนย์ข้อมูล\n",
      "Label: ป.อพช.ใต้ ร่วมศูนย์ข้อมูลชุมชน\n",
      "Prediction: .ระชาธิปไตยค...ค <unk> ข่าว \n"
     ]
    },
    {
     "name": "stderr",
     "output_type": "stream",
     "text": [
      " 40%|████████████████████████████████████████████████████████████████████▏                                                                                                     | 2004/5000 [01:22<02:08, 23.37it/s]"
     ]
    },
    {
     "name": "stdout",
     "output_type": "stream",
     "text": [
      "Input: ศูนย์อํานวยการความฉ้อฉลแห่งชาติบอกว่า พวกคุณคนเสื้อแดงคือผู้ก่อการร้าย \n",
      "Label: อํานวยการความฉ้อฉลแห่งชาติบอกว่า พวกคุณคนเสื้อแดงคือผู้ก่อการร้าย ต้องการ\n",
      "Prediction: ทนายความเขื่อนเสียหายแห่งชาติ  มา  การใช้แรงงาน พ\n"
     ]
    },
    {
     "name": "stderr",
     "output_type": "stream",
     "text": [
      " 60%|██████████████████████████████████████████████████████████████████████████████████████████████████████                                                                    | 3003/5000 [02:05<01:29, 22.43it/s]"
     ]
    },
    {
     "name": "stdout",
     "output_type": "stream",
     "text": [
      "Input: ยิ่งลักษณ์หาย 1 สัปดาห์ หลังไม่ทวีตกว่า 2\n",
      "Label: หาย 1 สัปดาห์ หลังไม่ทวีตกว่า 2 \n",
      "Prediction:  พ พที่ผ่านมา นานมานี้เป็น พ \n"
     ]
    },
    {
     "name": "stderr",
     "output_type": "stream",
     "text": [
      " 80%|████████████████████████████████████████████████████████████████████████████████████████████████████████████████████████████████████████                                  | 4002/5000 [02:46<00:43, 23.15it/s]"
     ]
    },
    {
     "name": "stdout",
     "output_type": "stream",
     "text": [
      "Input: ข้อมูลติดตามสถานการณ์ความรุนแรงทางการเมือง และภาคีเครือข่ายออกแถลงการณ์ต่อ\n",
      "Label: ติดตามสถานการณ์ความรุนแรงทางการเมือง และภาคีเครือข่ายออกแถลงการณ์ต่อสถานการณ์\n",
      "Prediction:  ที่ พิเศษ  รัตน์ประชาชนแถลงการณ์เรียกร้อง \n"
     ]
    },
    {
     "name": "stderr",
     "output_type": "stream",
     "text": [
      "100%|██████████████████████████████████████████████████████████████████████████████████████████████████████████████████████████████████████████████████████████████████████████| 5000/5000 [03:27<00:00, 24.04it/s]\n"
     ]
    },
    {
     "name": "stdout",
     "output_type": "stream",
     "text": [
      "Input: ชี้ประสิทธิภาพของยาไม่แน่ชัด ในขณะที่มีค่าใช้จ่ายสูง\n",
      "Label: ประสิทธิภาพของยาไม่แน่ชัด ในขณะที่มีค่าใช้จ่ายสูง จึง\n",
      "Prediction: ระชาธิปไตย . นานมานี้ ในขณะที่ การเผยแพร่ \" \n"
     ]
    },
    {
     "name": "stderr",
     "output_type": "stream",
     "text": [
      "100%|██████████████████████████████████████████████████████████████████████████████████████████████████████████████████████████████████████████████████████████████████████████| 1000/1000 [00:19<00:00, 51.52it/s]\n"
     ]
    },
    {
     "name": "stdout",
     "output_type": "stream",
     "text": [
      "Epoch 10, Train Loss: 4.6797, Validation Loss: 6.9162\n",
      "Saved Best Train loss Model\n"
     ]
    },
    {
     "name": "stderr",
     "output_type": "stream",
     "text": [
      " 20%|██████████████████████████████████                                                                                                                                        | 1002/5000 [00:40<02:49, 23.63it/s]"
     ]
    },
    {
     "name": "stdout",
     "output_type": "stream",
     "text": [
      "Input: แถลงการณ์ระบุ คนโดนดําเนินคดีด้วยมาตรา 112 มากขึ้นเรื่อยๆ\n",
      "Label: ระบุ คนโดนดําเนินคดีด้วยมาตรา 112 มากขึ้นเรื่อยๆ ในขณะที่\n",
      "Prediction:   การชุมนุมเรื่องพระนาม พ <unk>ไม่ ผม\n"
     ]
    },
    {
     "name": "stderr",
     "output_type": "stream",
     "text": [
      " 40%|████████████████████████████████████████████████████████████████████                                                                                                      | 2002/5000 [01:21<01:49, 27.33it/s]"
     ]
    },
    {
     "name": "stdout",
     "output_type": "stream",
     "text": [
      "Input: วันที่ 8 พ.ค. 52 ที่ผ่านมา\n",
      "Label: 8 พ.ค. 52 ที่ผ่านมา บริษัท\n",
      "Prediction: พ พ.. พ พ \n"
     ]
    },
    {
     "name": "stderr",
     "output_type": "stream",
     "text": [
      " 60%|██████████████████████████████████████████████████████████████████████████████████████████████████████▏                                                                   | 3004/5000 [02:03<01:23, 23.92it/s]"
     ]
    },
    {
     "name": "stdout",
     "output_type": "stream",
     "text": [
      "Input: ภาพประกอบ : ชนม์สวัสดิ์ อัศวเหม ประชาไท-30\n",
      "Label: : ชนม์สวัสดิ์ อัศวเหม ประชาไท-30 \n",
      "Prediction: <unk> ก ท์ <unk>ที่ท่านอิสลาม  \n"
     ]
    },
    {
     "name": "stderr",
     "output_type": "stream",
     "text": [
      " 80%|████████████████████████████████████████████████████████████████████████████████████████████████████████████████████████████████████████                                  | 4002/5000 [02:43<00:31, 31.72it/s]"
     ]
    },
    {
     "name": "stdout",
     "output_type": "stream",
     "text": [
      "Input: คสช.แถลงยังมีผู้บาดเจ็บพักรักษาตัว 36 ราย \n",
      "Label: .แถลงยังมีผู้บาดเจ็บพักรักษาตัว 36 ราย เผย\n",
      "Prediction: .คผลการจาก และก <unk> <unk>\n"
     ]
    },
    {
     "name": "stderr",
     "output_type": "stream",
     "text": [
      "100%|██████████████████████████████████████████████████████████████████████████████████████████████████████████████████████████████████████████████████████████████████████████| 5000/5000 [03:21<00:00, 24.85it/s]\n"
     ]
    },
    {
     "name": "stdout",
     "output_type": "stream",
     "text": [
      "Input: ศิวะ แสงมณี อธิบดีกรมการปกครอง กล่าวว่า กรม\n",
      "Label: วะ แสงมณี อธิบดีกรมการปกครอง กล่าวว่า กรมการปกครอง\n",
      "Prediction: มเป็นพภักดิ์ กทรัพยากร ก กทรัพยากร\n"
     ]
    },
    {
     "name": "stderr",
     "output_type": "stream",
     "text": [
      "100%|██████████████████████████████████████████████████████████████████████████████████████████████████████████████████████████████████████████████████████████████████████████| 1000/1000 [00:18<00:00, 53.12it/s]\n"
     ]
    },
    {
     "name": "stdout",
     "output_type": "stream",
     "text": [
      "Epoch 11, Train Loss: 4.5644, Validation Loss: 7.0290\n",
      "Saved Best Train loss Model\n"
     ]
    },
    {
     "name": "stderr",
     "output_type": "stream",
     "text": [
      " 20%|██████████████████████████████████                                                                                                                                        | 1002/5000 [00:41<02:47, 23.91it/s]"
     ]
    },
    {
     "name": "stdout",
     "output_type": "stream",
     "text": [
      "Input: อารีเพ็ญ อุตรสินธุ์ ส.ส.สัดส่วน\n",
      "Label: เพ็ญ อุตรสินธุ์ ส.ส.สัดส่วน \n",
      "Prediction: เพ็ญ กลา ก.. และ\n"
     ]
    },
    {
     "name": "stderr",
     "output_type": "stream",
     "text": [
      " 40%|████████████████████████████████████████████████████████████████████                                                                                                      | 2002/5000 [01:22<01:57, 25.49it/s]"
     ]
    },
    {
     "name": "stdout",
     "output_type": "stream",
     "text": [
      "Input: กสทช.สั่งการโอเปอเรเตอร์ทุกค่าย 13 \n",
      "Label: .สั่งการโอเปอเรเตอร์ทุกค่าย 13 ม\n",
      "Prediction: .คโครงการทัพเนีย 3.คนสาย พ ก\n"
     ]
    },
    {
     "name": "stderr",
     "output_type": "stream",
     "text": [
      " 60%|██████████████████████████████████████████████████████████████████████████████████████████████████████                                                                    | 3001/5000 [02:03<01:26, 23.23it/s]"
     ]
    },
    {
     "name": "stdout",
     "output_type": "stream",
     "text": [
      "Input: สมาคมนักข่าวนักหนังสือพิมพ์แห่งประเทศไทย แถลงการณ์ขอรัฐยุติการ\n",
      "Label: นักข่าวนักหนังสือพิมพ์แห่งประเทศไทย แถลงการณ์ขอรัฐยุติการคุกคาม\n",
      "Prediction: นักข่าวฯการเมืองพิมพ์มติชนประเทศไทย พ รวดเร็ว เคลื่อนไหว\n"
     ]
    },
    {
     "name": "stderr",
     "output_type": "stream",
     "text": [
      " 80%|████████████████████████████████████████████████████████████████████████████████████████████████████████████████████████████████████████                                  | 4002/5000 [02:43<00:43, 22.70it/s]"
     ]
    },
    {
     "name": "stdout",
     "output_type": "stream",
     "text": [
      "Input: การ์เมนต์เหนืออ่วมพิษต้นทุนพุ่งแห่ย้ายฐานซบกัมพูชา\n",
      "Label: เมนต์เหนืออ่วมพิษต้นทุนพุ่งแห่ย้ายฐานซบกัมพูชา \n",
      "Prediction: เดียนศาสตร์   เดนผ่านเกี่ยวข้อง วิทย์ภชี้\n"
     ]
    },
    {
     "name": "stderr",
     "output_type": "stream",
     "text": [
      "100%|██████████████████████████████████████████████████████████████████████████████████████████████████████████████████████████████████████████████████████████████████████████| 5000/5000 [03:24<00:00, 24.41it/s]\n"
     ]
    },
    {
     "name": "stdout",
     "output_type": "stream",
     "text": [
      "Input: 13 ต.ค. 56 - \"เจตนารมณ์ \n",
      "Label: ต.ค. 56 - \"เจตนารมณ์ 14\n",
      "Prediction: พ.ค. พ - สยาม พ\n"
     ]
    },
    {
     "name": "stderr",
     "output_type": "stream",
     "text": [
      "100%|██████████████████████████████████████████████████████████████████████████████████████████████████████████████████████████████████████████████████████████████████████████| 1000/1000 [00:18<00:00, 52.68it/s]\n"
     ]
    },
    {
     "name": "stdout",
     "output_type": "stream",
     "text": [
      "Epoch 12, Train Loss: 4.4658, Validation Loss: 7.0658\n",
      "Saved Best Train loss Model\n"
     ]
    },
    {
     "name": "stderr",
     "output_type": "stream",
     "text": [
      " 20%|██████████████████████████████████                                                                                                                                        | 1003/5000 [00:36<02:38, 25.27it/s]"
     ]
    },
    {
     "name": "stdout",
     "output_type": "stream",
     "text": [
      "Input: สื่อมวลชนท้องถิ่นอุบลฯ โร่ขึ้นโรงพักแจ้งจับ สนธิ และ\n",
      "Label: ท้องถิ่นอุบลฯ โร่ขึ้นโรงพักแจ้งจับ สนธิ และนสพ\n",
      "Prediction: และ  <unk>ในเรื่องค่านิจับ <unk> ภาวะ\n"
     ]
    },
    {
     "name": "stderr",
     "output_type": "stream",
     "text": [
      " 40%|████████████████████████████████████████████████████████████████████                                                                                                      | 2003/5000 [01:16<02:08, 23.39it/s]"
     ]
    },
    {
     "name": "stdout",
     "output_type": "stream",
     "text": [
      "Input: สร้างรัฐซ้อนรัฐไว้ชัดเจนวันนี้เห็น 'นักกําห\n",
      "Label: รัฐซ้อนรัฐไว้ชัดเจนวันนี้เห็น 'นักกําหนัด\n",
      "Prediction: สุขภาพ  จุดยืนเมืองไทย   <unk>การเมืองหลิ่ม\n"
     ]
    },
    {
     "name": "stderr",
     "output_type": "stream",
     "text": [
      " 60%|██████████████████████████████████████████████████████████████████████████████████████████████████████▏                                                                   | 3004/5000 [01:56<01:17, 25.72it/s]"
     ]
    },
    {
     "name": "stdout",
     "output_type": "stream",
     "text": [
      "Input: จากบทความเรื่อง พุทธศาสนาไม่สนใจ ‘การเข้าถึงความจริง’ ของ\n",
      "Label: บทความเรื่อง พุทธศาสนาไม่สนใจ ‘การเข้าถึงความจริง’ ของสุร\n",
      "Prediction: เดิม ก  ‘คําความจาก ก \n"
     ]
    },
    {
     "name": "stderr",
     "output_type": "stream",
     "text": [
      " 80%|████████████████████████████████████████████████████████████████████████████████████████████████████████████████████████████████████████                                  | 4003/5000 [02:37<00:44, 22.65it/s]"
     ]
    },
    {
     "name": "stdout",
     "output_type": "stream",
     "text": [
      "Input: ประเพณีปีใหม่ม้ง หรือที่ชาวม้งเรียกกันว่า “น\n",
      "Label: ปีใหม่ม้ง หรือที่ชาวม้งเรียกกันว่า “น่อ\n",
      "Prediction: ตก บ้านก  บังกลาเทศบ้านา ดี.\n"
     ]
    },
    {
     "name": "stderr",
     "output_type": "stream",
     "text": [
      "100%|██████████████████████████████████████████████████████████████████████████████████████████████████████████████████████████████████████████████████████████████████████████| 5000/5000 [03:18<00:00, 25.21it/s]\n"
     ]
    },
    {
     "name": "stdout",
     "output_type": "stream",
     "text": [
      "Input: เป็นที่ชัดเจนแล้วว่า การทําประชามติร่างรัฐธรรมนูญ จะทําประชามติพร้อมกัน\n",
      "Label: ที่ชัดเจนแล้วว่า การทําประชามติร่างรัฐธรรมนูญ จะทําประชามติพร้อมกัน \n",
      "Prediction: อย่างไรบอมบ์ กเหมืองแร่   กไฟฟ้า  \n"
     ]
    },
    {
     "name": "stderr",
     "output_type": "stream",
     "text": [
      "100%|██████████████████████████████████████████████████████████████████████████████████████████████████████████████████████████████████████████████████████████████████████████| 1000/1000 [00:18<00:00, 53.02it/s]\n"
     ]
    },
    {
     "name": "stdout",
     "output_type": "stream",
     "text": [
      "Epoch 13, Train Loss: 4.3756, Validation Loss: 7.1331\n",
      "Saved Best Train loss Model\n"
     ]
    },
    {
     "name": "stderr",
     "output_type": "stream",
     "text": [
      " 20%|██████████████████████████████████                                                                                                                                        | 1003/5000 [00:41<02:34, 25.84it/s]"
     ]
    },
    {
     "name": "stdout",
     "output_type": "stream",
     "text": [
      "Input: แม่ทัพภาคที่ 1 แฉนักศึกษา ‘ชู 3 \n",
      "Label: ที่ 1 แฉนักศึกษา ‘ชู 3 นิ้ว\n",
      "Prediction:  พ พรัฐบาลแห่งอธิ พ พ\n"
     ]
    },
    {
     "name": "stderr",
     "output_type": "stream",
     "text": [
      " 40%|████████████████████████████████████████████████████████████████████                                                                                                      | 2002/5000 [01:22<02:04, 24.11it/s]"
     ]
    },
    {
     "name": "stdout",
     "output_type": "stream",
     "text": [
      "Input: ชี้ร่างฉบับปัจจุบันระบุ การเข้าถึงสิทธิประการต่างๆ “ต้อง\n",
      "Label: ร่างฉบับปัจจุบันระบุ การเข้าถึงสิทธิประการต่างๆ “ต้องสมดุล\n",
      "Prediction:  เต็ม  กความจริงเสรีภาพที่มี เยาวชนสอบถาม\n"
     ]
    },
    {
     "name": "stderr",
     "output_type": "stream",
     "text": [
      " 60%|██████████████████████████████████████████████████████████████████████████████████████████████████████▏                                                                   | 3004/5000 [02:03<01:27, 22.82it/s]"
     ]
    },
    {
     "name": "stdout",
     "output_type": "stream",
     "text": [
      "Input: ท่ามกลางเสียงระเบิดและควันปืนที่ไม่เคยหยุดในสี่จังหวัดชายแดนภาคใต้\n",
      "Label: เสียงระเบิดและควันปืนที่ไม่เคยหยุดในสี่จังหวัดชายแดนภาคใต้เกือบ\n",
      "Prediction: ความวิพากษ์ ข้อตกลงวางจุดชนวนหยุดคดีฮ่องกง ยแดนภาคใต้ \n"
     ]
    },
    {
     "name": "stderr",
     "output_type": "stream",
     "text": [
      " 80%|████████████████████████████████████████████████████████████████████████████████████████████████████████████████████████████████████████                                  | 4002/5000 [02:43<00:38, 25.77it/s]"
     ]
    },
    {
     "name": "stdout",
     "output_type": "stream",
     "text": [
      "Input: นักกฎหมายด้านสิทธิมนุษยชนชี้ไทยต้องปฏิบัติตามกติการะหว่างประเทศว่าด้วยสิทธิ\n",
      "Label: ด้านสิทธิมนุษยชนชี้ไทยต้องปฏิบัติตามกติการะหว่างประเทศว่าด้วยสิทธิพลเมือง\n",
      "Prediction: สิทธิมนุษยชน  สัปดาห์นี้ระหเหมืองแร่สิประเทศ  เสรีภาพ\n"
     ]
    },
    {
     "name": "stderr",
     "output_type": "stream",
     "text": [
      "100%|██████████████████████████████████████████████████████████████████████████████████████████████████████████████████████████████████████████████████████████████████████████| 5000/5000 [03:23<00:00, 24.53it/s]\n"
     ]
    },
    {
     "name": "stdout",
     "output_type": "stream",
     "text": [
      "Input: กฎหมายแรงงานฉบับใหม่ของจีนที่ดูเหมือนจะเป็นเสือกระดาษ เมื่อนายจ้างสามารถปรับ\n",
      "Label: แรงงานฉบับใหม่ของจีนที่ดูเหมือนจะเป็นเสือกระดาษ เมื่อนายจ้างสามารถปรับเปลี่ยน\n",
      "Prediction:     เส่วนหนึ่งแท่นจากวันเสาร์เร้าเปลี่ยน\n"
     ]
    },
    {
     "name": "stderr",
     "output_type": "stream",
     "text": [
      "100%|██████████████████████████████████████████████████████████████████████████████████████████████████████████████████████████████████████████████████████████████████████████| 1000/1000 [00:18<00:00, 54.53it/s]\n"
     ]
    },
    {
     "name": "stdout",
     "output_type": "stream",
     "text": [
      "Epoch 14, Train Loss: 4.2970, Validation Loss: 7.2378\n",
      "Saved Best Train loss Model\n"
     ]
    },
    {
     "name": "stderr",
     "output_type": "stream",
     "text": [
      " 20%|██████████████████████████████████▏                                                                                                                                       | 1004/5000 [00:41<02:43, 24.45it/s]"
     ]
    },
    {
     "name": "stdout",
     "output_type": "stream",
     "text": [
      "Input: นพ.มงคล ณ สงขลา อดีตรัฐมนตรีว่าการกระทรวงสาธารณสุข\n",
      "Label: .มงคล ณ สงขลา อดีตรัฐมนตรีว่าการกระทรวงสาธารณสุข \n",
      "Prediction: .  พ ก-นักศึกษาา สาธารณสุข \n"
     ]
    },
    {
     "name": "stderr",
     "output_type": "stream",
     "text": [
      " 40%|████████████████████████████████████████████████████████████████████                                                                                                      | 2002/5000 [01:21<02:06, 23.73it/s]"
     ]
    },
    {
     "name": "stdout",
     "output_type": "stream",
     "text": [
      "Input: - 14 มิ.ย.48 กรรมการสิทธิฯ\n",
      "Label: 14 มิ.ย.48 กรรมการสิทธิฯ \n",
      "Prediction: <unk> <unk>.ค.ค สสิ \n"
     ]
    },
    {
     "name": "stderr",
     "output_type": "stream",
     "text": [
      " 60%|██████████████████████████████████████████████████████████████████████████████████████████████████████                                                                    | 3002/5000 [02:02<01:25, 23.31it/s]"
     ]
    },
    {
     "name": "stdout",
     "output_type": "stream",
     "text": [
      "Input: อนุกรรมการสิทธิฯติงร่างรายงานกรรมการสิทธิกรณีการชุมนุม นปช.\n",
      "Label: สิทธิฯติงร่างรายงานกรรมการสิทธิกรณีการชุมนุม นปช.ปี\n",
      "Prediction:  สื่อ  สิทธิฯแรงงาน เปิดก. \n"
     ]
    },
    {
     "name": "stderr",
     "output_type": "stream",
     "text": [
      " 80%|████████████████████████████████████████████████████████████████████████████████████████████████████████████████████████████████████████                                  | 4003/5000 [02:42<00:42, 23.39it/s]"
     ]
    },
    {
     "name": "stdout",
     "output_type": "stream",
     "text": [
      "Input: <unk>9 ก.พ. 2549 เมื่อวันที่ \n",
      "Label: 9 ก.พ. 2549 เมื่อวันที่ 8\n",
      "Prediction:  พ..คพ ที่ ก\n"
     ]
    },
    {
     "name": "stderr",
     "output_type": "stream",
     "text": [
      "100%|██████████████████████████████████████████████████████████████████████████████████████████████████████████████████████████████████████████████████████████████████████████| 5000/5000 [03:23<00:00, 24.59it/s]\n"
     ]
    },
    {
     "name": "stdout",
     "output_type": "stream",
     "text": [
      "Input: บทคัดย่อ คําอุทธรณ์นี้อาจแบ่งเป็น 2 ส่วนใหญ่ คือ\n",
      "Label: คัดย่อ คําอุทธรณ์นี้อาจแบ่งเป็น 2 ส่วนใหญ่ คือ การ\n",
      "Prediction: นําส่งข้อความ พิทักษ์กรณี   ก ยัน ผลิตภัณฑ์\n"
     ]
    },
    {
     "name": "stderr",
     "output_type": "stream",
     "text": [
      "100%|██████████████████████████████████████████████████████████████████████████████████████████████████████████████████████████████████████████████████████████████████████████| 1000/1000 [00:18<00:00, 54.32it/s]\n"
     ]
    },
    {
     "name": "stdout",
     "output_type": "stream",
     "text": [
      "Epoch 15, Train Loss: 4.2189, Validation Loss: 7.5069\n",
      "Saved Best Train loss Model\n"
     ]
    },
    {
     "name": "stderr",
     "output_type": "stream",
     "text": [
      " 20%|██████████████████████████████████                                                                                                                                        | 1002/5000 [00:40<02:48, 23.77it/s]"
     ]
    },
    {
     "name": "stdout",
     "output_type": "stream",
     "text": [
      "Input: บทเรียนจากโครงการพัฒนา \"อีสกันดาร์\" ขนาด \n",
      "Label: จากโครงการพัฒนา \"อีสกันดาร์\" ขนาด 2.2\n",
      "Prediction: จากสํานักงานตํารา <unk>นิวส์.ที่\"  <unk>\n"
     ]
    },
    {
     "name": "stderr",
     "output_type": "stream",
     "text": [
      " 40%|████████████████████████████████████████████████████████████████████                                                                                                      | 2003/5000 [01:20<02:04, 24.05it/s]"
     ]
    },
    {
     "name": "stdout",
     "output_type": "stream",
     "text": [
      "Input: 7 มิ.ย.54 ทําเนียบรัฐบาล นพ\n",
      "Label: มิ.ย.54 ทําเนียบรัฐบาล นพ.\n",
      "Prediction: พ.ค.  พรัฐบาล ก.\n"
     ]
    },
    {
     "name": "stderr",
     "output_type": "stream",
     "text": [
      " 60%|██████████████████████████████████████████████████████████████████████████████████████████████████████                                                                    | 3003/5000 [02:01<01:22, 24.33it/s]"
     ]
    },
    {
     "name": "stdout",
     "output_type": "stream",
     "text": [
      "Input: รวบรวมโดย กลุ่มรักท้องถิ่นบ่อนอก-กุยบุรี \n",
      "Label: โดย กลุ่มรักท้องถิ่นบ่อนอก-กุยบุรี จาก\n",
      "Prediction: รายชื่อ คนเสื้อแดงเพศ นอกหนี ล. <unk>\n"
     ]
    },
    {
     "name": "stderr",
     "output_type": "stream",
     "text": [
      " 80%|████████████████████████████████████████████████████████████████████████████████████████████████████████████████████████████████████████▏                                 | 4004/5000 [02:42<00:41, 23.91it/s]"
     ]
    },
    {
     "name": "stdout",
     "output_type": "stream",
     "text": [
      "Input: ที่ปรึกษากลุ่มแนวร่วมประชาธิปไตยต่อต้านเผด็จการแห่งชาติ (นปช.) \n",
      "Label: กลุ่มแนวร่วมประชาธิปไตยต่อต้านเผด็จการแห่งชาติ (นปช.) บอกเล่า\n",
      "Prediction: ประชาชน ระชาธิปไตย สภาวะแห่งชาติ (พ.  พ\n"
     ]
    },
    {
     "name": "stderr",
     "output_type": "stream",
     "text": [
      "100%|██████████████████████████████████████████████████████████████████████████████████████████████████████████████████████████████████████████████████████████████████████████| 5000/5000 [03:22<00:00, 24.67it/s]\n"
     ]
    },
    {
     "name": "stdout",
     "output_type": "stream",
     "text": [
      "Input: ที่มาของภาพ: กรีนพีซเอเชียตะวันออกเฉียงใต้) [1]\n",
      "Label: ภาพ: กรีนพีซเอเชียตะวันออกเฉียงใต้) [1] วันนี้\n",
      "Prediction: ภาพ  ก@ ใต้เฉียงใต้  <unk> \n"
     ]
    },
    {
     "name": "stderr",
     "output_type": "stream",
     "text": [
      "100%|██████████████████████████████████████████████████████████████████████████████████████████████████████████████████████████████████████████████████████████████████████████| 1000/1000 [00:18<00:00, 53.20it/s]\n"
     ]
    },
    {
     "name": "stdout",
     "output_type": "stream",
     "text": [
      "Epoch 16, Train Loss: 4.1568, Validation Loss: 7.4254\n",
      "Saved Best Train loss Model\n"
     ]
    },
    {
     "name": "stderr",
     "output_type": "stream",
     "text": [
      " 20%|██████████████████████████████████                                                                                                                                        | 1003/5000 [00:40<02:41, 24.80it/s]"
     ]
    },
    {
     "name": "stdout",
     "output_type": "stream",
     "text": [
      "Input: 4 กทค. รอดคดีฮั้วประมูล 3\n",
      "Label: กทค. รอดคดีฮั้วประมูล 3<unk>\n",
      "Prediction: ก -. กและ สังคมไทยแล้วก \n"
     ]
    },
    {
     "name": "stderr",
     "output_type": "stream",
     "text": [
      " 40%|████████████████████████████████████████████████████████████████████                                                                                                      | 2003/5000 [01:16<01:29, 33.62it/s]"
     ]
    },
    {
     "name": "stdout",
     "output_type": "stream",
     "text": [
      "Input: พรรคเพื่อไทยออกแถลงการณ์ชี้แจง ยันไม่มีนโยบายที่จะนิรโทษกรรมและ\n",
      "Label: เพื่อไทยออกแถลงการณ์ชี้แจง ยันไม่มีนโยบายที่จะนิรโทษกรรมและเอาเงิน\n",
      "Prediction: เพื่อไทย การที่หมายเรียกเปิดตัวเรื่องกไม่หวังที่อยู่ใน (ความรุนแรง\n"
     ]
    },
    {
     "name": "stderr",
     "output_type": "stream",
     "text": [
      " 60%|██████████████████████████████████████████████████████████████████████████████████████████████████████▏                                                                   | 3004/5000 [01:56<01:16, 26.15it/s]"
     ]
    },
    {
     "name": "stdout",
     "output_type": "stream",
     "text": [
      "Input: คณะทํางานยุติธรรมเพื่อสันติภาพ และโครงการสันติอาสาสักขีพยาน ลงพื้นที่อ\n",
      "Label: ยุติธรรมเพื่อสันติภาพ และโครงการสันติอาสาสักขีพยาน ลงพื้นที่อ.\n",
      "Prediction: ยุติธรรมเพื่อสิ  สร้าง (ขยายผล พพบ.\n"
     ]
    },
    {
     "name": "stderr",
     "output_type": "stream",
     "text": [
      " 80%|████████████████████████████████████████████████████████████████████████████████████████████████████████████████████████████████████████▏                                 | 4004/5000 [02:37<00:37, 26.70it/s]"
     ]
    },
    {
     "name": "stdout",
     "output_type": "stream",
     "text": [
      "Input: สมัชชาคนจนเขื่อนราษีไศล-หัวนา\n",
      "Label: เขื่อนราษีไศล-หัวนา เปิด\n",
      "Prediction: พัฒนาแก่ง. เมตตารยามา ต่อ. \n"
     ]
    },
    {
     "name": "stderr",
     "output_type": "stream",
     "text": [
      "100%|██████████████████████████████████████████████████████████████████████████████████████████████████████████████████████████████████████████████████████████████████████████| 5000/5000 [03:17<00:00, 25.32it/s]\n"
     ]
    },
    {
     "name": "stdout",
     "output_type": "stream",
     "text": [
      "Input: ครบรอบ 6 ปี การขอคืนพื้นที่วันที่ 10 \n",
      "Label: 6 ปี การขอคืนพื้นที่วันที่ 10 เมษ\n",
      "Prediction: ก พ เลือกตั้งประเทศ  <unk> ก\n"
     ]
    },
    {
     "name": "stderr",
     "output_type": "stream",
     "text": [
      "100%|██████████████████████████████████████████████████████████████████████████████████████████████████████████████████████████████████████████████████████████████████████████| 1000/1000 [00:18<00:00, 53.59it/s]\n"
     ]
    },
    {
     "name": "stdout",
     "output_type": "stream",
     "text": [
      "Epoch 17, Train Loss: 4.1055, Validation Loss: 7.3109\n",
      "Saved Best Train loss Model\n"
     ]
    },
    {
     "name": "stderr",
     "output_type": "stream",
     "text": [
      " 20%|██████████████████████████████████                                                                                                                                        | 1003/5000 [00:40<02:40, 24.91it/s]"
     ]
    },
    {
     "name": "stdout",
     "output_type": "stream",
     "text": [
      "Input: กรัฐมนตรีพม่าย้ําให้ข้าราชการในรัฐฉานรณรงค์ประชาชนเลือกสนับสนุนพรรค\n",
      "Label: พม่าย้ําให้ข้าราชการในรัฐฉานรณรงค์ประชาชนเลือกสนับสนุนพรรคการเมือง\n",
      "Prediction: หญิง แก้สัมภาษณ์ในชายแดนใต้ เพื่อ แห่ง การเมือง\n"
     ]
    },
    {
     "name": "stderr",
     "output_type": "stream",
     "text": [
      " 40%|████████████████████████████████████████████████████████████████████                                                                                                      | 2003/5000 [01:21<02:16, 21.93it/s]"
     ]
    },
    {
     "name": "stdout",
     "output_type": "stream",
     "text": [
      "Input: จํานวนผู้เสียชีวิตจากเหตุแผ่นดินไหว คลื่นยักษ์ซึนามิและ\n",
      "Label: เสียชีวิตจากเหตุแผ่นดินไหว คลื่นยักษ์ซึนามิและน้ําท่วม\n",
      "Prediction: ใช้สิทธิ ชุมนุม พความถี่ น..คดี\n"
     ]
    },
    {
     "name": "stderr",
     "output_type": "stream",
     "text": [
      " 60%|██████████████████████████████████████████████████████████████████████████████████████████████████████                                                                    | 3002/5000 [02:02<01:29, 22.36it/s]"
     ]
    },
    {
     "name": "stdout",
     "output_type": "stream",
     "text": [
      "Input: 3 ต.ค. 2559 องค์กรฟอร์ติ\n",
      "Label: ต.ค. 2559 องค์กรฟอร์ติไฟ\n",
      "Prediction: พ.. พ กพัฒนาเอกชนตะ \n"
     ]
    },
    {
     "name": "stderr",
     "output_type": "stream",
     "text": [
      " 80%|████████████████████████████████████████████████████████████████████████████████████████████████████████████████████████████████████████                                  | 4003/5000 [02:43<00:43, 22.69it/s]"
     ]
    },
    {
     "name": "stdout",
     "output_type": "stream",
     "text": [
      "Input: ที่มาภาพ : หนังสือรําลึก ๑๐๐ ปีศรีบูรพาเนื่องใน\n",
      "Label: : หนังสือรําลึก ๑๐๐ ปีศรีบูรพาเนื่องในวาระ\n",
      "Prediction: พ พิมพ์ พีซ พ   วัน\n"
     ]
    },
    {
     "name": "stderr",
     "output_type": "stream",
     "text": [
      "100%|██████████████████████████████████████████████████████████████████████████████████████████████████████████████████████████████████████████████████████████████████████████| 5000/5000 [03:23<00:00, 24.55it/s]\n"
     ]
    },
    {
     "name": "stdout",
     "output_type": "stream",
     "text": [
      "Input: รัฐธรรมนูญแห่งราชอาณาจักรไทย พุทธศักราช 2560 มีอายุครบ 1 \n",
      "Label: แห่งราชอาณาจักรไทย พุทธศักราช 2560 มีอายุครบ 1 ปี\n",
      "Prediction: าณาจักรไทย พ ก. พ ก\n"
     ]
    },
    {
     "name": "stderr",
     "output_type": "stream",
     "text": [
      "100%|██████████████████████████████████████████████████████████████████████████████████████████████████████████████████████████████████████████████████████████████████████████| 1000/1000 [00:18<00:00, 53.42it/s]\n"
     ]
    },
    {
     "name": "stdout",
     "output_type": "stream",
     "text": [
      "Epoch 18, Train Loss: 4.0554, Validation Loss: 7.3000\n",
      "Saved Best Train loss Model\n"
     ]
    },
    {
     "name": "stderr",
     "output_type": "stream",
     "text": [
      " 20%|██████████████████████████████████                                                                                                                                        | 1002/5000 [00:40<02:49, 23.57it/s]"
     ]
    },
    {
     "name": "stdout",
     "output_type": "stream",
     "text": [
      "Input: ต่อต้านคอร์รัปชั่นภาคเอกชนท่านหนึ่งแถลงข่าวว่าน่ายินดีที่จากการสํารวจของ\n",
      "Label: คอร์รัปชั่นภาคเอกชนท่านหนึ่งแถลงข่าวว่าน่ายินดีที่จากการสํารวจของสํานัก\n",
      "Prediction: มักจะ. และakการบริหารเรียกร้อง ที่  เบื้องต้น \n"
     ]
    },
    {
     "name": "stderr",
     "output_type": "stream",
     "text": [
      " 40%|████████████████████████████████████████████████████████████████████                                                                                                      | 2003/5000 [01:22<02:13, 22.52it/s]"
     ]
    },
    {
     "name": "stdout",
     "output_type": "stream",
     "text": [
      "Input: นางทองดี โพธิยอง จ.เชียงใหม่ 2.นายจอ\n",
      "Label: ทองดี โพธิยอง จ.เชียงใหม่ 2.นายจอนิ\n",
      "Prediction: ดํา  กธีร จ.ค  อําพลนิ\n"
     ]
    },
    {
     "name": "stderr",
     "output_type": "stream",
     "text": [
      " 60%|██████████████████████████████████████████████████████████████████████████████████████████████████████                                                                    | 3002/5000 [01:59<01:20, 24.96it/s]"
     ]
    },
    {
     "name": "stdout",
     "output_type": "stream",
     "text": [
      "Input: เมื่อช่วงสุดสัปดาห์ที่ผ่านมามีเหตุรั่วไหลของน้ําที่มีไอโซโทป\n",
      "Label: สุดสัปดาห์ที่ผ่านมามีเหตุรั่วไหลของน้ําที่มีไอโซโทปกัม\n",
      "Prediction: หลายหมื่นที่ผ่านมา ปของมูลนิธิ รากฐาน นี่โน.\n"
     ]
    },
    {
     "name": "stderr",
     "output_type": "stream",
     "text": [
      " 80%|████████████████████████████████████████████████████████████████████████████████████████████████████████████████████████████████████████                                  | 4003/5000 [02:40<00:41, 23.82it/s]"
     ]
    },
    {
     "name": "stdout",
     "output_type": "stream",
     "text": [
      "Input: 65/27 หมู่ 14 หมู่บ้านพุทธธรรม \n",
      "Label: /27 หมู่ 14 หมู่บ้านพุทธธรรม ซอย\n",
      "Prediction: <unk> ก พ พของถูกฟ้องคดี พ\n"
     ]
    },
    {
     "name": "stderr",
     "output_type": "stream",
     "text": [
      "100%|██████████████████████████████████████████████████████████████████████████████████████████████████████████████████████████████████████████████████████████████████████████| 5000/5000 [03:21<00:00, 24.77it/s]\n"
     ]
    },
    {
     "name": "stdout",
     "output_type": "stream",
     "text": [
      "Input: เอ็นจีโอสวนกลับ อิตาเลี่ยนไทยเดินหน้าทําอีเอช\n",
      "Label: สวนกลับ อิตาเลี่ยนไทยเดินหน้าทําอีเอชไอ\n",
      "Prediction:   ต. ไทยสัปดาห์นี้คืนความเข้าใจย'\n"
     ]
    },
    {
     "name": "stderr",
     "output_type": "stream",
     "text": [
      "100%|██████████████████████████████████████████████████████████████████████████████████████████████████████████████████████████████████████████████████████████████████████████| 1000/1000 [00:19<00:00, 51.91it/s]\n"
     ]
    },
    {
     "name": "stdout",
     "output_type": "stream",
     "text": [
      "Epoch 19, Train Loss: 4.0213, Validation Loss: 7.4742\n",
      "Saved Best Train loss Model\n"
     ]
    },
    {
     "name": "stderr",
     "output_type": "stream",
     "text": [
      " 20%|██████████████████████████████████▏                                                                                                                                       | 1004/5000 [00:41<02:52, 23.20it/s]"
     ]
    },
    {
     "name": "stdout",
     "output_type": "stream",
     "text": [
      "Input: ญาติของ มารี โคลวิน นักข่าวอเมริกันที่ถูกสังหาร\n",
      "Label: ของ มารี โคลวิน นักข่าวอเมริกันที่ถูกสังหารในซีเรีย\n",
      "Prediction:  ก กle กนัก  อยู่\n"
     ]
    },
    {
     "name": "stderr",
     "output_type": "stream",
     "text": [
      " 40%|████████████████████████████████████████████████████████████████████                                                                                                      | 2003/5000 [01:24<02:07, 23.59it/s]"
     ]
    },
    {
     "name": "stdout",
     "output_type": "stream",
     "text": [
      "Input: คนละโลก (เดียวกัน) ธุรกิจช้างเร่ข้างถนนที่เชียงใหม่\n",
      "Label: โลก (เดียวกัน) ธุรกิจช้างเร่ข้างถนนที่เชียงใหม่กลายเป็น\n",
      "Prediction: ทั้ง <unk>  พ เมื่อคืนาที่  \n"
     ]
    },
    {
     "name": "stderr",
     "output_type": "stream",
     "text": [
      " 60%|██████████████████████████████████████████████████████████████████████████████████████████████████████▏                                                                   | 3005/5000 [02:06<01:11, 27.90it/s]"
     ]
    },
    {
     "name": "stdout",
     "output_type": "stream",
     "text": [
      "Input: 8.00 น. วันนี้ (5 ต.ค\n",
      "Label: 00 น. วันนี้ (5 ต.ค.\n",
      "Prediction: o พ.ค <unk> พ.ค.\n"
     ]
    },
    {
     "name": "stderr",
     "output_type": "stream",
     "text": [
      " 80%|████████████████████████████████████████████████████████████████████████████████████████████████████████████████████████████████████████▏                                 | 4004/5000 [02:48<00:42, 23.59it/s]"
     ]
    },
    {
     "name": "stdout",
     "output_type": "stream",
     "text": [
      "Input: แพทย์หญิงคุณหญิงพรทิพย์ โรจนสุนันท์ รักษาการผู้อํานวยการ\n",
      "Label: หญิงคุณหญิงพรทิพย์ โรจนสุนันท์ รักษาการผู้อํานวยการสถาบัน\n",
      "Prediction: ชนบท ญ กพฤกษ์ชาด กรองการเลือกตั้ง\n"
     ]
    },
    {
     "name": "stderr",
     "output_type": "stream",
     "text": [
      "100%|██████████████████████████████████████████████████████████████████████████████████████████████████████████████████████████████████████████████████████████████████████████| 5000/5000 [03:25<00:00, 24.32it/s]\n"
     ]
    },
    {
     "name": "stdout",
     "output_type": "stream",
     "text": [
      "Input: 9 มี.ค. 54 - สหภาพแรงงานไทยอิน\n",
      "Label: มี.ค. 54 - สหภาพแรงงานไทยอินดั\n",
      "Prediction: .ค. ก  กเพื่อที่ต้องหลัง\n"
     ]
    },
    {
     "name": "stderr",
     "output_type": "stream",
     "text": [
      "100%|██████████████████████████████████████████████████████████████████████████████████████████████████████████████████████████████████████████████████████████████████████████| 1000/1000 [00:17<00:00, 56.97it/s]\n"
     ]
    },
    {
     "name": "stdout",
     "output_type": "stream",
     "text": [
      "Epoch 20, Train Loss: 3.9791, Validation Loss: 7.4260\n",
      "Saved Best Train loss Model\n"
     ]
    },
    {
     "name": "stderr",
     "output_type": "stream",
     "text": [
      " 20%|██████████████████████████████████                                                                                                                                        | 1003/5000 [00:41<02:47, 23.84it/s]"
     ]
    },
    {
     "name": "stdout",
     "output_type": "stream",
     "text": [
      "Input: 24 มิถุนาประชาธิปไตย จัดรําลึก \n",
      "Label: 24 มิถุนาประชาธิปไตย จัดรําลึก 6\n",
      "Prediction: ก ก.า ระชาธิปไตย กโครงการ ก\n"
     ]
    },
    {
     "name": "stderr",
     "output_type": "stream",
     "text": [
      " 40%|████████████████████████████████████████████████████████████████████                                                                                                      | 2002/5000 [01:23<02:05, 23.93it/s]"
     ]
    },
    {
     "name": "stdout",
     "output_type": "stream",
     "text": [
      "Input: ประยูรเดช คณานุรักษ์ รองนายกองค์การบริหารส่วนจังหวัด\n",
      "Label: เดช คณานุรักษ์ รองนายกองค์การบริหารส่วนจังหวัดปัตตานี\n",
      "Prediction: เดช ก.   พรัฐมนตรีลูกจ้างตําบล \n"
     ]
    },
    {
     "name": "stderr",
     "output_type": "stream",
     "text": [
      " 60%|██████████████████████████████████████████████████████████████████████████████████████████████████████▏                                                                   | 3004/5000 [02:06<01:22, 24.29it/s]"
     ]
    },
    {
     "name": "stdout",
     "output_type": "stream",
     "text": [
      "Input: ผลกระทบทางการค้าจากปัญหาความสัมพันธ์ระหว่างไทยกับประเทศเพื่อนบ้าน กรณีด่านชายแดนไทย\n",
      "Label: ทางการค้าจากปัญหาความสัมพันธ์ระหว่างไทยกับประเทศเพื่อนบ้าน กรณีด่านชายแดนไทย \n",
      "Prediction: ของการสํารวจขัดแย้ง ประเทศเดินหน้ากระบวนการกําลังดังกล่าวเจดีย์-\n"
     ]
    },
    {
     "name": "stderr",
     "output_type": "stream",
     "text": [
      " 80%|████████████████████████████████████████████████████████████████████████████████████████████████████████████████████████████████████████▏                                 | 4005/5000 [02:48<00:37, 26.49it/s]"
     ]
    },
    {
     "name": "stdout",
     "output_type": "stream",
     "text": [
      "Input: ระหว่างการเจรจาสันติภาพกับพรรครัฐมอญใหม่ (<unk>ew \n",
      "Label: การเจรจาสันติภาพกับพรรครัฐมอญใหม่ (<unk>ew <unk>\n",
      "Prediction: ประเทศทาง รัฐธรรม  <unk>  arriก\n"
     ]
    },
    {
     "name": "stderr",
     "output_type": "stream",
     "text": [
      "100%|██████████████████████████████████████████████████████████████████████████████████████████████████████████████████████████████████████████████████████████████████████████| 5000/5000 [03:29<00:00, 23.85it/s]\n"
     ]
    },
    {
     "name": "stdout",
     "output_type": "stream",
     "text": [
      "Input: ที่รอคอย... หลังจากคนจะนะฝากความหวังต่อกระบวนการยุติธรรมมายาวนาน\n",
      "Label: รอคอย... หลังจากคนจะนะฝากความหวังต่อกระบวนการยุติธรรมมายาวนานถึง\n",
      "Prediction: '...ศาลกว่าแสไม่พอใจ  พิจารณา:ถึง\n"
     ]
    },
    {
     "name": "stderr",
     "output_type": "stream",
     "text": [
      "100%|██████████████████████████████████████████████████████████████████████████████████████████████████████████████████████████████████████████████████████████████████████████| 1000/1000 [00:18<00:00, 53.30it/s]\n"
     ]
    },
    {
     "name": "stdout",
     "output_type": "stream",
     "text": [
      "Epoch 21, Train Loss: 3.9481, Validation Loss: 7.4022\n",
      "Saved Best Train loss Model\n"
     ]
    },
    {
     "name": "stderr",
     "output_type": "stream",
     "text": [
      " 20%|██████████████████████████████████▏                                                                                                                                       | 1004/5000 [00:41<02:41, 24.81it/s]"
     ]
    },
    {
     "name": "stdout",
     "output_type": "stream",
     "text": [
      "Input: เลขาธิการผู้ตรวจการแผ่นดิน เผย พล.ต.ท.ศานิตย์\n",
      "Label: ผู้ตรวจการแผ่นดิน เผย พล.ต.ท.ศานิตย์ \n",
      "Prediction: พรรคเลือกตั้ง ก.ค.คไทยค \n"
     ]
    },
    {
     "name": "stderr",
     "output_type": "stream",
     "text": [
      " 40%|████████████████████████████████████████████████████████████████████▏                                                                                                     | 2004/5000 [01:22<02:12, 22.61it/s]"
     ]
    },
    {
     "name": "stdout",
     "output_type": "stream",
     "text": [
      "Input: สั่งจําคุก 9 ปี ผู้บริหาร บ.เอ\n",
      "Label: จําคุก 9 ปี ผู้บริหาร บ.เอวิ\n",
      "Prediction: ทํา พ พ <unk> พ.คเฟ\n"
     ]
    },
    {
     "name": "stderr",
     "output_type": "stream",
     "text": [
      " 60%|██████████████████████████████████████████████████████████████████████████████████████████████████████▏                                                                   | 3004/5000 [02:04<01:20, 24.67it/s]"
     ]
    },
    {
     "name": "stdout",
     "output_type": "stream",
     "text": [
      "Input: - 3 มี.ค.48 ผลสํารวจความคิดเห็น\n",
      "Label: 3 มี.ค.48 ผลสํารวจความคิดเห็นของประชาชน\n",
      "Prediction: พ..  ก เป็นธรรมในเชิง\n"
     ]
    },
    {
     "name": "stderr",
     "output_type": "stream",
     "text": [
      " 80%|████████████████████████████████████████████████████████████████████████████████████████████████████████████████████████████████████████▏                                 | 4004/5000 [02:46<00:40, 24.56it/s]"
     ]
    },
    {
     "name": "stdout",
     "output_type": "stream",
     "text": [
      "Input: ที่ 29 ส.ค.2558 เวลา 21.\n",
      "Label: 29 ส.ค.2558 เวลา 21.18\n",
      "Prediction: ก ก..  ก  \n"
     ]
    },
    {
     "name": "stderr",
     "output_type": "stream",
     "text": [
      "100%|██████████████████████████████████████████████████████████████████████████████████████████████████████████████████████████████████████████████████████████████████████████| 5000/5000 [03:23<00:00, 24.56it/s]\n"
     ]
    },
    {
     "name": "stdout",
     "output_type": "stream",
     "text": [
      "Input: .แถลงมติเสียงข้างมากให้ใบแดง ‘ธงชัย เขียวรุ้ง\n",
      "Label: แถลงมติเสียงข้างมากให้ใบแดง ‘ธงชัย เขียวรุ้งเพชร\n",
      "Prediction: ของสภา@ในเรื่องสัมภาษณ์ ‘คํา พอ่าน \n"
     ]
    },
    {
     "name": "stderr",
     "output_type": "stream",
     "text": [
      "100%|██████████████████████████████████████████████████████████████████████████████████████████████████████████████████████████████████████████████████████████████████████████| 1000/1000 [00:18<00:00, 53.72it/s]\n"
     ]
    },
    {
     "name": "stdout",
     "output_type": "stream",
     "text": [
      "Epoch 22, Train Loss: 3.9257, Validation Loss: 7.2836\n",
      "Saved Best Train loss Model\n"
     ]
    },
    {
     "name": "stderr",
     "output_type": "stream",
     "text": [
      " 20%|██████████████████████████████████▏                                                                                                                                       | 1004/5000 [00:42<02:48, 23.74it/s]"
     ]
    },
    {
     "name": "stdout",
     "output_type": "stream",
     "text": [
      "Input: ภาคประชาชนแจงผลหารือกับผู้บริหารกรมสรรพากร กรณีการยื่นหนังสือเรียกร้อง 'ยุติการ\n",
      "Label: แจงผลหารือกับผู้บริหารกรมสรรพากร กรณีการยื่นหนังสือเรียกร้อง 'ยุติการจัด\n",
      "Prediction: ของญี่ปุ่นคลิปสอบผู้บริหารมหาวิทยาลัและ หนังสือพิมพ์ให้ยิ่งลักษณ์คุกคาม\n"
     ]
    },
    {
     "name": "stderr",
     "output_type": "stream",
     "text": [
      " 40%|████████████████████████████████████████████████████████████████████                                                                                                      | 2002/5000 [01:24<02:09, 23.16it/s]"
     ]
    },
    {
     "name": "stdout",
     "output_type": "stream",
     "text": [
      "Input: 17 ต.ค.53 นายอานันท์ ปันย\n",
      "Label: ต.ค.53 นายอานันท์ ปันยา\n",
      "Prediction: <unk>.ค.ค -จาตุรนต์ <unk>ย.\n"
     ]
    },
    {
     "name": "stderr",
     "output_type": "stream",
     "text": [
      " 60%|██████████████████████████████████████████████████████████████████████████████████████████████████████▏                                                                   | 3004/5000 [02:07<01:22, 24.15it/s]"
     ]
    },
    {
     "name": "stdout",
     "output_type": "stream",
     "text": [
      "Input: สนช.หลับคาห้องประชุมไม่ผิด สื่อที่เอาภาพ\n",
      "Label: .หลับคาห้องประชุมไม่ผิด สื่อที่เอาภาพมา\n",
      "Prediction: .คค. สารสนเทศ พลามก ความ \n"
     ]
    },
    {
     "name": "stderr",
     "output_type": "stream",
     "text": [
      " 80%|████████████████████████████████████████████████████████████████████████████████████████████████████████████████████████████████████████▏                                 | 4004/5000 [02:49<00:43, 22.80it/s]"
     ]
    },
    {
     "name": "stdout",
     "output_type": "stream",
     "text": [
      "Input: คุณสัก กอแสงเรือง นายกสภาทนายความ, อ\n",
      "Label: สัก กอแสงเรือง นายกสภาทนายความ, อ.\n",
      "Prediction:  <unk>. อดีต ผมก ที่ปรึกษาเพื่อ.\n"
     ]
    },
    {
     "name": "stderr",
     "output_type": "stream",
     "text": [
      "100%|██████████████████████████████████████████████████████████████████████████████████████████████████████████████████████████████████████████████████████████████████████████| 5000/5000 [03:31<00:00, 23.59it/s]\n"
     ]
    },
    {
     "name": "stdout",
     "output_type": "stream",
     "text": [
      "Input: 4 ก.พ. ที่ผ่านมา เป็นวันที่คณะกรรมการสิทธิมนุษย\n",
      "Label: ก.พ. ที่ผ่านมา เป็นวันที่คณะกรรมการสิทธิมนุษยชนแห่งชาติ\n",
      "Prediction: <unk>.ค. <unk> <unk> รณรงค์ชนแห่งชาติ\n"
     ]
    },
    {
     "name": "stderr",
     "output_type": "stream",
     "text": [
      "100%|██████████████████████████████████████████████████████████████████████████████████████████████████████████████████████████████████████████████████████████████████████████| 1000/1000 [00:19<00:00, 51.73it/s]\n"
     ]
    },
    {
     "name": "stdout",
     "output_type": "stream",
     "text": [
      "Epoch 23, Train Loss: 3.9053, Validation Loss: 7.2220\n",
      "Saved Best Train loss Model\n"
     ]
    },
    {
     "name": "stderr",
     "output_type": "stream",
     "text": [
      " 60%|██████████████████████████████████████████████████████████████████████████████████████████████████████                                                                    | 3003/5000 [02:02<01:04, 30.88it/s]"
     ]
    },
    {
     "name": "stdout",
     "output_type": "stream",
     "text": [
      "Input: ฮาร์วีย์ ไวน์สไตน์ ผู้กํากับฮอลลีวูดถูกเปิดโปงกรณี\n",
      "Label: วีย์ ไวน์สไตน์ ผู้กํากับฮอลลีวูดถูกเปิดโปงกรณีล่วงละเมิด\n",
      "Prediction: พี  พสไตน์ กศิลปถูกทางการชาวผลกระทบ\n"
     ]
    },
    {
     "name": "stderr",
     "output_type": "stream",
     "text": [
      " 80%|████████████████████████████████████████████████████████████████████████████████████████████████████████████████████████████████████████                                  | 4002/5000 [02:45<00:51, 19.46it/s]"
     ]
    },
    {
     "name": "stdout",
     "output_type": "stream",
     "text": [
      "Input: การเมืองเป็นเรื่องของการช่วงชิงมวลชน ล่าสุด คมช. สั่งกรม\n",
      "Label: เป็นเรื่องของการช่วงชิงมวลชน ล่าสุด คมช. สั่งกรมกิจการ\n",
      "Prediction: สิกลับคืนสู่สามพิเศษมีก.คกย้ายทรัพย์สิน\n"
     ]
    },
    {
     "name": "stderr",
     "output_type": "stream",
     "text": [
      "100%|██████████████████████████████████████████████████████████████████████████████████████████████████████████████████████████████████████████████████████████████████████████| 5000/5000 [03:28<00:00, 23.97it/s]\n"
     ]
    },
    {
     "name": "stdout",
     "output_type": "stream",
     "text": [
      "Input: แรกๆ ที่ตกเป็นเหยื่อ ม.112 และถูกกดดัน\n",
      "Label: ที่ตกเป็นเหยื่อ ม.112 และถูกกดดันอย่างหนัก\n",
      "Prediction: พ แสดงว่า พ.ค พส่งเสริมวิกฤต\n"
     ]
    },
    {
     "name": "stderr",
     "output_type": "stream",
     "text": [
      "100%|██████████████████████████████████████████████████████████████████████████████████████████████████████████████████████████████████████████████████████████████████████████| 1000/1000 [00:19<00:00, 50.19it/s]\n"
     ]
    },
    {
     "name": "stdout",
     "output_type": "stream",
     "text": [
      "Epoch 24, Train Loss: 3.8767, Validation Loss: 7.3582\n",
      "Saved Best Train loss Model\n"
     ]
    },
    {
     "name": "stderr",
     "output_type": "stream",
     "text": [
      " 20%|██████████████████████████████████                                                                                                                                        | 1003/5000 [00:42<02:56, 22.66it/s]"
     ]
    },
    {
     "name": "stdout",
     "output_type": "stream",
     "text": [
      "Input: <unk>31 ตุลาคม 2548 ไทยเตรียมลงทุนทําคอน\n",
      "Label: 31 ตุลาคม 2548 ไทยเตรียมลงทุนทําคอนแทค\n",
      "Prediction:  <unk> พ พ ย้ายทํา \"แทค\n"
     ]
    },
    {
     "name": "stderr",
     "output_type": "stream",
     "text": [
      " 40%|████████████████████████████████████████████████████████████████████                                                                                                      | 2001/5000 [01:35<02:27, 20.31it/s]"
     ]
    },
    {
     "name": "stdout",
     "output_type": "stream",
     "text": [
      "Input: กรรมการสิทธิให้ความรู้เจ้าหน้าที่ด้านกระบวนการยุติธรรมในชายแดนใต้ แนวทาง\n",
      "Label: สิทธิให้ความรู้เจ้าหน้าที่ด้านกระบวนการยุติธรรมในชายแดนใต้ แนวทางชันสูตรศพ\n",
      "Prediction: สิทธิ กับที่ตํารวจ ความมั่นคงรักษาเพื่อประเทศไทย พปฏิบัติ\n"
     ]
    },
    {
     "name": "stderr",
     "output_type": "stream",
     "text": [
      " 60%|██████████████████████████████████████████████████████████████████████████████████████████████████████                                                                    | 3002/5000 [02:25<01:37, 20.49it/s]"
     ]
    },
    {
     "name": "stdout",
     "output_type": "stream",
     "text": [
      "Input: น.พ.พรหมมินทร์ เลิศสุริย์เดช\n",
      "Label: .พ.พรหมมินทร์ เลิศสุริย์เดช \n",
      "Prediction: .. ม. พไพ์\\ \n"
     ]
    },
    {
     "name": "stderr",
     "output_type": "stream",
     "text": [
      " 80%|████████████████████████████████████████████████████████████████████████████████████████████████████████████████████████████████████████▏                                 | 4004/5000 [03:12<00:46, 21.60it/s]"
     ]
    },
    {
     "name": "stdout",
     "output_type": "stream",
     "text": [
      "Input: แถลงการณ์ส่วนตัวจากคอลัมน์ว่ายทวนน้ํา \"ใบตองแห้ง\"\n",
      "Label: ส่วนตัวจากคอลัมน์ว่ายทวนน้ํา \"ใบตองแห้ง\" \n",
      "Prediction: เครือข่ายจาก  .น้ําน้อยการไม่คุ้มขอ \n"
     ]
    },
    {
     "name": "stderr",
     "output_type": "stream",
     "text": [
      "100%|██████████████████████████████████████████████████████████████████████████████████████████████████████████████████████████████████████████████████████████████████████████| 5000/5000 [04:00<00:00, 20.81it/s]\n"
     ]
    },
    {
     "name": "stdout",
     "output_type": "stream",
     "text": [
      "Input: นับว่าเป็นเรื่องดีสําหรับ ‘เอมมา ซัลลิแวน’\n",
      "Label: เรื่องดีสําหรับ ‘เอมมา ซัลลิแวน’ \n",
      "Prediction: เรื่อง มากขึ้นแรงงานไทยกิตติมา ก b’ \n"
     ]
    },
    {
     "name": "stderr",
     "output_type": "stream",
     "text": [
      "100%|██████████████████████████████████████████████████████████████████████████████████████████████████████████████████████████████████████████████████████████████████████████| 1000/1000 [00:18<00:00, 54.97it/s]\n"
     ]
    },
    {
     "name": "stdout",
     "output_type": "stream",
     "text": [
      "Epoch 25, Train Loss: 3.8619, Validation Loss: 7.4761\n",
      "Saved Best Train loss Model\n"
     ]
    },
    {
     "name": "stderr",
     "output_type": "stream",
     "text": [
      " 10%|█████████████████▍                                                                                                                                                         | 510/5000 [00:18<02:36, 28.65it/s]IOPub message rate exceeded.\n",
      "The Jupyter server will temporarily stop sending output\n",
      "to the client in order to avoid crashing it.\n",
      "To change this limit, set the config variable\n",
      "`--ServerApp.iopub_msg_rate_limit`.\n",
      "\n",
      "Current values:\n",
      "ServerApp.iopub_msg_rate_limit=1000.0 (msgs/sec)\n",
      "ServerApp.rate_limit_window=3.0 (secs)\n",
      "\n",
      "100%|██████████████████████████████████████████████████████████████████████████████████████████████████████████████████████████████████████████████████████████████████████████| 5000/5000 [03:39<00:00, 22.83it/s]\n"
     ]
    },
    {
     "name": "stdout",
     "output_type": "stream",
     "text": [
      "Input: 24ต.ค.52 นายยุทธนา ทัพเจริญ \n",
      "Label: ต.ค.52 นายยุทธนา ทัพเจริญ ผู้ว่าฯ\n",
      "Prediction: .ค.  เจิมประชาชนพ  ก\n"
     ]
    },
    {
     "name": "stderr",
     "output_type": "stream",
     "text": [
      "100%|█████████████████████████████████████████████████████████████████████████████████████████████████████████████████████████████████████████████████████████████████████████| 1000/1000 [00:09<00:00, 102.50it/s]\n"
     ]
    },
    {
     "name": "stdout",
     "output_type": "stream",
     "text": [
      "Epoch 51, Train Loss: 3.6638, Validation Loss: 7.5589\n",
      "Saved Best Train loss Model\n"
     ]
    },
    {
     "name": "stderr",
     "output_type": "stream",
     "text": [
      " 20%|██████████████████████████████████                                                                                                                                        | 1002/5000 [00:43<03:12, 20.75it/s]"
     ]
    },
    {
     "name": "stdout",
     "output_type": "stream",
     "text": [
      "Input: ที่ 21 กรกฎาคม 2558 ณ สํานักงานหลักประกัน\n",
      "Label: 21 กรกฎาคม 2558 ณ สํานักงานหลักประกันสุขภาพ\n",
      "Prediction: พ พ พ พ พใหญ่สุขภาพ\n"
     ]
    },
    {
     "name": "stderr",
     "output_type": "stream",
     "text": [
      " 40%|████████████████████████████████████████████████████████████████████                                                                                                      | 2003/5000 [01:28<02:06, 23.66it/s]"
     ]
    },
    {
     "name": "stdout",
     "output_type": "stream",
     "text": [
      "Input: สมศักดิ์ ชี้ต่างประเทศยังเข้าได้ คาดด้วยมาตรการนี้\n",
      "Label: ชี้ต่างประเทศยังเข้าได้ คาดด้วยมาตรการนี้อีกหน่อย\n",
      "Prediction: ก  แย่ขั้นเฮ<unk>เกิดความรุนแรงรักษาความ \n"
     ]
    },
    {
     "name": "stderr",
     "output_type": "stream",
     "text": [
      " 60%|██████████████████████████████████████████████████████████████████████████████████████████████████████                                                                    | 3003/5000 [02:12<01:29, 22.28it/s]"
     ]
    },
    {
     "name": "stdout",
     "output_type": "stream",
     "text": [
      "Input: ที่ 26 ก.พ. 51 กลุ่ม \n",
      "Label: 26 ก.พ. 51 กลุ่ม 24\n",
      "Prediction: ก <unk>.ค.คพ -นักวิชาการก\n"
     ]
    },
    {
     "name": "stderr",
     "output_type": "stream",
     "text": [
      " 77%|██████████████████████████████████████████████████████████████████████████████████████████████████████████████████████████████████▉                                       | 3852/5000 [02:50<00:46, 24.49it/s]IOPub message rate exceeded.\n",
      "The Jupyter server will temporarily stop sending output\n",
      "to the client in order to avoid crashing it.\n",
      "To change this limit, set the config variable\n",
      "`--ServerApp.iopub_msg_rate_limit`.\n",
      "\n",
      "Current values:\n",
      "ServerApp.iopub_msg_rate_limit=1000.0 (msgs/sec)\n",
      "ServerApp.rate_limit_window=3.0 (secs)\n",
      "\n",
      " 40%|████████████████████████████████████████████████████████████████████                                                                                                      | 2003/5000 [01:29<02:19, 21.55it/s]"
     ]
    },
    {
     "name": "stdout",
     "output_type": "stream",
     "text": [
      "Input: 09.30 น. ที่รัฐสภา มีการประชุมกรรมาธิการยกร่าง\n",
      "Label: 09.30 น. ที่รัฐสภา มีการประชุมกรรมาธิการยกร่างรัฐธรรมนูญ\n",
      "Prediction: พ พ.คพ .  รัฐธรรมนูญ\n"
     ]
    },
    {
     "name": "stderr",
     "output_type": "stream",
     "text": [
      " 60%|██████████████████████████████████████████████████████████████████████████████████████████████████████▏                                                                   | 3004/5000 [02:13<01:29, 22.27it/s]"
     ]
    },
    {
     "name": "stdout",
     "output_type": "stream",
     "text": [
      "Input: ประธานาธิบดีวินมินท์ จับมือกับมูตูเซโพ ประธาน\n",
      "Label: ดีวินมินท์ จับมือกับมูตูเซโพ ประธานสหภาพ\n",
      "Prediction: ดี  ไห่ที่<unk>ทรราชดอนีเซียยชมูลนิธิ\n"
     ]
    },
    {
     "name": "stderr",
     "output_type": "stream",
     "text": [
      " 80%|████████████████████████████████████████████████████████████████████████████████████████████████████████████████████████████████████████                                  | 4003/5000 [02:58<00:44, 22.22it/s]"
     ]
    },
    {
     "name": "stdout",
     "output_type": "stream",
     "text": [
      "Input: สํานักงานเลขาธิการใหญ่ แอมเนสตี้ อินเตอร์เนชั่นแนล ซึ่งอยู่ที่กรุงลอนดอน \n",
      "Label: เลขาธิการใหญ่ แอมเนสตี้ อินเตอร์เนชั่นแนล ซึ่งอยู่ที่กรุงลอนดอน สหราช\n",
      "Prediction:   <unk> พเนชั่นแนล รัฐธรรมนูญวัด พ\n"
     ]
    },
    {
     "name": "stderr",
     "output_type": "stream",
     "text": [
      "100%|██████████████████████████████████████████████████████████████████████████████████████████████████████████████████████████████████████████████████████████████████████████| 5000/5000 [03:42<00:00, 22.47it/s]\n"
     ]
    },
    {
     "name": "stdout",
     "output_type": "stream",
     "text": [
      "Input: บริบูรณ์ เกียงวรางกูล (เสื้อขาวกลาง)\n",
      "Label: เกียงวรางกูล (เสื้อขาวกลาง) และ\n",
      "Prediction: พพง ต่างประเทศค (<unk>เหลือง \"ณรงค์ \n"
     ]
    },
    {
     "name": "stderr",
     "output_type": "stream",
     "text": [
      " 59%|█████████████████████████████████████████████████████████████████████████████████████████████████████▍                                                                     | 593/1000 [00:11<00:08, 50.38it/s]IOPub message rate exceeded.\n",
      "The Jupyter server will temporarily stop sending output\n",
      "to the client in order to avoid crashing it.\n",
      "To change this limit, set the config variable\n",
      "`--ServerApp.iopub_msg_rate_limit`.\n",
      "\n",
      "Current values:\n",
      "ServerApp.iopub_msg_rate_limit=1000.0 (msgs/sec)\n",
      "ServerApp.rate_limit_window=3.0 (secs)\n",
      "\n",
      " 40%|████████████████████████████████████████████████████████████████████                                                                                                      | 2002/5000 [01:26<02:25, 20.57it/s]"
     ]
    },
    {
     "name": "stdout",
     "output_type": "stream",
     "text": [
      "Input: ศรีสุวรรณ จรรยา' เลขาธิการสมาคมองค์การพิทักษ์รัฐธรรมนูญไทย \n",
      "Label: จรรยา' เลขาธิการสมาคมองค์การพิทักษ์รัฐธรรมนูญไทย เตรียมยื่น\n",
      "Prediction: พ' พพรรคต่อต้านมุสลิม   ก\n"
     ]
    },
    {
     "name": "stderr",
     "output_type": "stream",
     "text": [
      " 60%|██████████████████████████████████████████████████████████████████████████████████████████████████████▏                                                                   | 3004/5000 [02:11<01:28, 22.53it/s]"
     ]
    },
    {
     "name": "stdout",
     "output_type": "stream",
     "text": [
      "Input: -- 9 ก.ย. 2547 ชาว\n",
      "Label: -- 9 ก.ย. 2547 ชาวพัน\n",
      "Prediction: ก พ ก.ค. ก กะเหรี่ยง\n"
     ]
    },
    {
     "name": "stderr",
     "output_type": "stream",
     "text": [
      " 80%|████████████████████████████████████████████████████████████████████████████████████████████████████████████████████████████████████████▏                                 | 4004/5000 [02:56<00:43, 22.99it/s]"
     ]
    },
    {
     "name": "stdout",
     "output_type": "stream",
     "text": [
      "Input: - 14 ก.ย.50 เมื่อวันที่ 13\n",
      "Label: 14 ก.ย.50 เมื่อวันที่ 13 \n",
      "Prediction: <unk> พ.. ที่ <unk> \n"
     ]
    },
    {
     "name": "stderr",
     "output_type": "stream",
     "text": [
      "100%|██████████████████████████████████████████████████████████████████████████████████████████████████████████████████████████████████████████████████████████████████████████| 5000/5000 [03:40<00:00, 22.65it/s]\n"
     ]
    },
    {
     "name": "stdout",
     "output_type": "stream",
     "text": [
      "Input: ฮึ่ม - เครือข่ายพันธมิตรประชาชนเพื่อประชาธิปไตยภาคใต้ ร่วมกันแถลงข่าว\n",
      "Label: ึ่ม - เครือข่ายพันธมิตรประชาชนเพื่อประชาธิปไตยภาคใต้ ร่วมกันแถลงข่าวสนับสนุน\n",
      "Prediction: . - องค์กรประชาชนเพื่อสังคมระชาธิปไตย -พของกลางดึก\n"
     ]
    },
    {
     "name": "stderr",
     "output_type": "stream",
     "text": [
      "100%|██████████████████████████████████████████████████████████████████████████████████████████████████████████████████████████████████████████████████████████████████████████| 1000/1000 [00:20<00:00, 48.79it/s]\n"
     ]
    },
    {
     "name": "stdout",
     "output_type": "stream",
     "text": [
      "Epoch 57, Train Loss: 3.6388, Validation Loss: 7.9048\n"
     ]
    },
    {
     "name": "stderr",
     "output_type": "stream",
     "text": [
      " 20%|██████████████████████████████████▏                                                                                                                                       | 1004/5000 [00:44<02:47, 23.87it/s]"
     ]
    },
    {
     "name": "stdout",
     "output_type": "stream",
     "text": [
      "Input: นักเรียนสังคมวิทยาและมานุษยวิทยา ระดับบัณฑิตศึกษา มหาวิทยาลั\n",
      "Label: สังคมวิทยาและมานุษยวิทยา ระดับบัณฑิตศึกษา มหาวิทยาลัยเชียงใหม่\n",
      "Prediction: ไทยปนิพนธ์เครือข่าย.มี<unk>ผู้นําอาสาสมัคร พย\n"
     ]
    },
    {
     "name": "stderr",
     "output_type": "stream",
     "text": [
      " 40%|████████████████████████████████████████████████████████████████████                                                                                                      | 2002/5000 [01:29<02:23, 20.95it/s]"
     ]
    },
    {
     "name": "stdout",
     "output_type": "stream",
     "text": [
      "Input: องค์กรสิทธิมนุษยชนสากล แอมเนสตี้ อินเตอร์เนชั่นแนล ชี้ผู้บริหาร\n",
      "Label: สิทธิมนุษยชนสากล แอมเนสตี้ อินเตอร์เนชั่นแนล ชี้ผู้บริหารมธ\n",
      "Prediction: สิทธิมนุษยชนแห่งส พ พเนชั่นแนล พ  \n"
     ]
    },
    {
     "name": "stderr",
     "output_type": "stream",
     "text": [
      " 60%|██████████████████████████████████████████████████████████████████████████████████████████████████████▏                                                                   | 3004/5000 [02:10<01:06, 29.88it/s]"
     ]
    },
    {
     "name": "stdout",
     "output_type": "stream",
     "text": [
      "Input: ปฏิรูปที่ดินเทือกเขาบรรทัด-สหพันธ์เกษตรกรภาคใต้ หนุนการชุมนุมเพื่อ\n",
      "Label: ที่ดินเทือกเขาบรรทัด-สหพันธ์เกษตรกรภาคใต้ หนุนการชุมนุมเพื่อทวงคืน\n",
      "Prediction: ที่ดิน บรรทัด 29นิสิตภาคเหนือ <unk>งานที่สิ\n"
     ]
    },
    {
     "name": "stderr",
     "output_type": "stream",
     "text": [
      " 80%|████████████████████████████████████████████████████████████████████████████████████████████████████████████████████████████████████████                                  | 4002/5000 [02:50<00:41, 23.76it/s]"
     ]
    },
    {
     "name": "stdout",
     "output_type": "stream",
     "text": [
      "Input: สภาฯ มีมติ 284:152 เห็นชอบ ร่างพ\n",
      "Label: มีมติ 284:152 เห็นชอบ ร่างพ.\n",
      "Prediction: <unk> ก  ปัญหา  <unk>ท่าทีก.\n"
     ]
    },
    {
     "name": "stderr",
     "output_type": "stream",
     "text": [
      "100%|██████████████████████████████████████████████████████████████████████████████████████████████████████████████████████████████████████████████████████████████████████████| 5000/5000 [03:35<00:00, 23.22it/s]\n"
     ]
    },
    {
     "name": "stdout",
     "output_type": "stream",
     "text": [
      "Input: พ.ต.อ.จรุงวิทย์ ภุม\n",
      "Label: .ต.อ.จรุงวิทย์ ภุมมา\n",
      "Prediction: ... กุลวิทย์'<unk>าธุ\n"
     ]
    },
    {
     "name": "stderr",
     "output_type": "stream",
     "text": [
      "100%|██████████████████████████████████████████████████████████████████████████████████████████████████████████████████████████████████████████████████████████████████████████| 1000/1000 [00:20<00:00, 49.29it/s]\n"
     ]
    },
    {
     "name": "stdout",
     "output_type": "stream",
     "text": [
      "Epoch 58, Train Loss: 3.6355, Validation Loss: 7.8362\n"
     ]
    },
    {
     "name": "stderr",
     "output_type": "stream",
     "text": [
      " 20%|██████████████████████████████████                                                                                                                                        | 1003/5000 [00:45<02:54, 22.94it/s]"
     ]
    },
    {
     "name": "stdout",
     "output_type": "stream",
     "text": [
      "Input: สมคิด เชื้อคง แกนนํากลุ่ม 42 ส.\n",
      "Label: เชื้อคง แกนนํากลุ่ม 42 ส.ส\n",
      "Prediction: พชั่งคพเสื้อแดงตัวอย่างก ก. \n"
     ]
    },
    {
     "name": "stderr",
     "output_type": "stream",
     "text": [
      " 40%|████████████████████████████████████████████████████████████████████                                                                                                      | 2002/5000 [01:29<01:56, 25.62it/s]"
     ]
    },
    {
     "name": "stdout",
     "output_type": "stream",
     "text": [
      "Input: : ศูนย์เฝ้าระวังสถานการณ์ภาคใต้ [1] หมายเหตุ : เมื่อวัน\n",
      "Label: ศูนย์เฝ้าระวังสถานการณ์ภาคใต้ [1] หมายเหตุ : เมื่อวันที่\n",
      "Prediction: ทนายความและที่ ก พประพ ที่\n"
     ]
    },
    {
     "name": "stderr",
     "output_type": "stream",
     "text": [
      " 60%|██████████████████████████████████████████████████████████████████████████████████████████████████████                                                                    | 3003/5000 [02:15<01:33, 21.32it/s]"
     ]
    },
    {
     "name": "stdout",
     "output_type": "stream",
     "text": [
      "Input: กลุ่มกบฏ <unk> สู้รบกับรัฐบาลโคลอมเบียมาตั้งแต่ปี 2507\n",
      "Label: <unk> สู้รบกับรัฐบาลโคลอมเบียมาตั้งแต่ปี 2507 เมื่อ\n",
      "Prediction: พ กกับรัฐบาลโคลอมเบียมาเปิดเผย พอีก \n"
     ]
    },
    {
     "name": "stderr",
     "output_type": "stream",
     "text": [
      " 80%|████████████████████████████████████████████████████████████████████████████████████████████████████████████████████████████████████████                                  | 4002/5000 [03:01<00:45, 21.95it/s]"
     ]
    },
    {
     "name": "stdout",
     "output_type": "stream",
     "text": [
      "Input: จีรนุช เปรมชัยพร คืนแรม ๑๒ \n",
      "Label: นุช เปรมชัยพร คืนแรม ๑๒ ค่ํา\n",
      "Prediction: นุช กใจ  พรางวัล ก พ\n"
     ]
    },
    {
     "name": "stderr",
     "output_type": "stream",
     "text": [
      "100%|██████████████████████████████████████████████████████████████████████████████████████████████████████████████████████████████████████████████████████████████████████████| 5000/5000 [03:46<00:00, 22.10it/s]\n"
     ]
    },
    {
     "name": "stdout",
     "output_type": "stream",
     "text": [
      "Input: สภานิติบัญญัติมีมติรับหลักการ พ.ร.ป.\n",
      "Label: บัญญัติมีมติรับหลักการ พ.ร.ป.ว่าด้วยการ\n",
      "Prediction: บัญญัติแห่งชาติผ่านร้องร่าง<unk>..คระชาธิปไตยค\n"
     ]
    },
    {
     "name": "stderr",
     "output_type": "stream",
     "text": [
      "100%|██████████████████████████████████████████████████████████████████████████████████████████████████████████████████████████████████████████████████████████████████████████| 1000/1000 [00:19<00:00, 50.47it/s]\n"
     ]
    },
    {
     "name": "stdout",
     "output_type": "stream",
     "text": [
      "Epoch 59, Train Loss: 3.6324, Validation Loss: 7.9852\n",
      "Saved Best Train loss Model\n"
     ]
    },
    {
     "name": "stderr",
     "output_type": "stream",
     "text": [
      " 20%|██████████████████████████████████▏                                                                                                                                       | 1004/5000 [00:45<02:58, 22.42it/s]"
     ]
    },
    {
     "name": "stdout",
     "output_type": "stream",
     "text": [
      "Input: วิทยากร บุญเรือง : สื่ออิสระล้านนา มนุษย์\n",
      "Label: วิทยากร บุญเรือง : สื่ออิสระล้านนา มนุษย์ออกแบบ\n",
      "Prediction: ก ก พ พควรฯ กจะ\n"
     ]
    },
    {
     "name": "stderr",
     "output_type": "stream",
     "text": [
      " 40%|████████████████████████████████████████████████████████████████████                                                                                                      | 2001/5000 [01:30<02:21, 21.26it/s]"
     ]
    },
    {
     "name": "stdout",
     "output_type": "stream",
     "text": [
      "Input: ประธานาธิบดีเต็งเส่ง จะประกาศสร้างสันติภาพประเทศและเจรจา\n",
      "Label: ดีเต็งเส่ง จะประกาศสร้างสันติภาพประเทศและเจรจาหยุดยิง\n",
      "Prediction: ดี  เหลื่อมล้ํา พสร้างความเข้าใจของกองทัพเป็นเรียบเรียงสันติภาพ\n"
     ]
    },
    {
     "name": "stderr",
     "output_type": "stream",
     "text": [
      " 60%|██████████████████████████████████████████████████████████████████████████████████████████████████████                                                                    | 3001/5000 [02:17<01:36, 20.76it/s]"
     ]
    },
    {
     "name": "stdout",
     "output_type": "stream",
     "text": [
      "Input: เผยพบเจ้านายผู้ที่มีอํานาจตัวจริงคือตัวแทนสมาชิกกองทุนหมู่บ้านและชุมชน\n",
      "Label: พบเจ้านายผู้ที่มีอํานาจตัวจริงคือตัวแทนสมาชิกกองทุนหมู่บ้านและชุมชนเมือง\n",
      "Prediction: เว็บไซต์ผู้ที่ทําตรวจตราคือคนไทยเครือข่ายกลุ่มการแพทย์\"เมือง\n"
     ]
    },
    {
     "name": "stderr",
     "output_type": "stream",
     "text": [
      " 80%|████████████████████████████████████████████████████████████████████████████████████████████████████████████████████████████████████████                                  | 4002/5000 [03:02<00:43, 22.92it/s]"
     ]
    },
    {
     "name": "stdout",
     "output_type": "stream",
     "text": [
      "Input: ที่ 13 ตุลาคม 2555 ผู้เขียนได้มีโอกาสเข้าร่วมประชุม\n",
      "Label: 13 ตุลาคม 2555 ผู้เขียนได้มีโอกาสเข้าร่วมประชุมสัมมนา\n",
      "Prediction: พ พ พ พได้ไปโครงการแก้ไขปัญหา\n"
     ]
    },
    {
     "name": "stderr",
     "output_type": "stream",
     "text": [
      "100%|██████████████████████████████████████████████████████████████████████████████████████████████████████████████████████████████████████████████████████████████████████████| 5000/5000 [03:46<00:00, 22.08it/s]\n"
     ]
    },
    {
     "name": "stdout",
     "output_type": "stream",
     "text": [
      "Input: อํามาตย์ชราธิปไตยเป็นการปรับเปลี่ยนท่าทีในการครอบงําสังคมการเมืองไทย\n",
      "Label: ชราธิปไตยเป็นการปรับเปลี่ยนท่าทีในการครอบงําสังคมการเมืองไทยของ\n",
      "Prediction: ชราฉกสีเขียว เปลี่ยน ในวันที่การประชุมด้วย \"  \n"
     ]
    },
    {
     "name": "stderr",
     "output_type": "stream",
     "text": [
      "100%|██████████████████████████████████████████████████████████████████████████████████████████████████████████████████████████████████████████████████████████████████████████| 1000/1000 [00:20<00:00, 49.45it/s]\n"
     ]
    },
    {
     "name": "stdout",
     "output_type": "stream",
     "text": [
      "Epoch 60, Train Loss: 3.6306, Validation Loss: 8.0370\n",
      "Saved Best Train loss Model\n"
     ]
    },
    {
     "name": "stderr",
     "output_type": "stream",
     "text": [
      " 20%|██████████████████████████████████                                                                                                                                        | 1003/5000 [00:45<02:56, 22.62it/s]"
     ]
    },
    {
     "name": "stdout",
     "output_type": "stream",
     "text": [
      "Input: จากเวที \"เรียนรู้ปัญหาวิกฤตพลังงาน และการยกระดับการจัดการป่าชุมชนสู่\n",
      "Label: เวที \"เรียนรู้ปัญหาวิกฤตพลังงาน และการยกระดับการจัดการป่าชุมชนสู่เส้นทาง\n",
      "Prediction: ความขบวนการแนวคิดเริ่มนี้เสียง การจัดการตัวเอง ผังเมือง\n"
     ]
    },
    {
     "name": "stderr",
     "output_type": "stream",
     "text": [
      " 40%|████████████████████████████████████████████████████████████████████                                                                                                      | 2003/5000 [01:30<02:17, 21.78it/s]"
     ]
    },
    {
     "name": "stdout",
     "output_type": "stream",
     "text": [
      "Input: องค์กรปกป้องสิทธิแรงงานต่างชาติในอิสราเอลเผยแพร่เกร็ดความรู้สําหรับแรงงานไทย\n",
      "Label: ปกป้องสิทธิแรงงานต่างชาติในอิสราเอลเผยแพร่เกร็ดความรู้สําหรับแรงงานไทยที่ต้อง\n",
      "Prediction: แรงงานสถาบันแรงงาน ที่ประเทศไทยครั้งรายงานความรู้สถานการณ์ ‘ \n"
     ]
    },
    {
     "name": "stderr",
     "output_type": "stream",
     "text": [
      " 60%|██████████████████████████████████████████████████████████████████████████████████████████████████████                                                                    | 3002/5000 [02:15<01:28, 22.50it/s]"
     ]
    },
    {
     "name": "stdout",
     "output_type": "stream",
     "text": [
      "Input: ความเป็นจริงของสันติวิธี ไม่ ต้องสงสัยเลยว่า เหตุการณ์วันที่ \n",
      "Label: เป็นจริงของสันติวิธี ไม่ ต้องสงสัยเลยว่า เหตุการณ์วันที่ 13\n",
      "Prediction: คิดเห็นที่ เราจะต้องกดดันพก่อเหตุ ทําไมพระเบิด พ\n"
     ]
    },
    {
     "name": "stderr",
     "output_type": "stream",
     "text": [
      " 80%|████████████████████████████████████████████████████████████████████████████████████████████████████████████████████████████████████████                                  | 4003/5000 [03:00<00:46, 21.45it/s]"
     ]
    },
    {
     "name": "stdout",
     "output_type": "stream",
     "text": [
      "Input: จิตวิญญาณของวันกรรมกรสากล (<unk>ay <unk>ay)\n",
      "Label: ของวันกรรมกรสากล (<unk>ay <unk>ay) คือ\n",
      "Prediction: ของ แรงงานสากล 28 n<unk> \" เวลา\n"
     ]
    },
    {
     "name": "stderr",
     "output_type": "stream",
     "text": [
      "100%|██████████████████████████████████████████████████████████████████████████████████████████████████████████████████████████████████████████████████████████████████████████| 5000/5000 [03:39<00:00, 22.80it/s]\n"
     ]
    },
    {
     "name": "stdout",
     "output_type": "stream",
     "text": [
      "Input: ครม. เห็นชอบให้ธุรกิจสปาอยู่กํากับของก\n",
      "Label: . เห็นชอบให้ธุรกิจสปาอยู่กํากับของก.\n",
      "Prediction: . <unk> รายงานว่า.ระชาธิปไตย มาระบบ.\n"
     ]
    },
    {
     "name": "stderr",
     "output_type": "stream",
     "text": [
      "100%|██████████████████████████████████████████████████████████████████████████████████████████████████████████████████████████████████████████████████████████████████████████| 1000/1000 [00:18<00:00, 54.43it/s]\n"
     ]
    },
    {
     "name": "stdout",
     "output_type": "stream",
     "text": [
      "Epoch 61, Train Loss: 3.6286, Validation Loss: 7.7645\n",
      "Saved Best Train loss Model\n"
     ]
    },
    {
     "name": "stderr",
     "output_type": "stream",
     "text": [
      " 20%|██████████████████████████████████                                                                                                                                        | 1003/5000 [00:45<02:56, 22.65it/s]"
     ]
    },
    {
     "name": "stdout",
     "output_type": "stream",
     "text": [
      "Input: ย้ํา ผบ.ทบ.กําชับไปแล้วกับผู้บังคับหน่วยทุกหน่วย\n",
      "Label: ผบ.ทบ.กําชับไปแล้วกับผู้บังคับหน่วยทุกหน่วยจะต้อง\n",
      "Prediction: จุดยืนก.. ผู้บังคับกับ หน่วย พร้อม\n"
     ]
    },
    {
     "name": "stderr",
     "output_type": "stream",
     "text": [
      " 40%|████████████████████████████████████████████████████████████████████                                                                                                      | 2003/5000 [01:29<02:11, 22.81it/s]"
     ]
    },
    {
     "name": "stdout",
     "output_type": "stream",
     "text": [
      "Input: - 5 พ.ย.2549 สถาบันพระปกเกล้า\n",
      "Label: 5 พ.ย.2549 สถาบันพระปกเกล้าจัด\n",
      "Prediction: <unk> <unk>.ค.ค พวิจัย \n"
     ]
    },
    {
     "name": "stderr",
     "output_type": "stream",
     "text": [
      " 60%|██████████████████████████████████████████████████████████████████████████████████████████████████████                                                                    | 3003/5000 [02:13<01:28, 22.55it/s]"
     ]
    },
    {
     "name": "stdout",
     "output_type": "stream",
     "text": [
      "Input: ที่ 16 ก.พ. ที่ผ่านมา ผู้สื่อข่า\n",
      "Label: 16 ก.พ. ที่ผ่านมา ผู้สื่อข่าว\n",
      "Prediction: ก <unk>.. <unk> พว\n"
     ]
    },
    {
     "name": "stderr",
     "output_type": "stream",
     "text": [
      " 80%|████████████████████████████████████████████████████████████████████████████████████████████████████████████████████████████████████████                                  | 4001/5000 [02:58<00:43, 23.06it/s]"
     ]
    },
    {
     "name": "stdout",
     "output_type": "stream",
     "text": [
      "Input: ศาลอุทธรณ์ยกฟ้องคดีโรงงานสับปะรดฟ้องนักสิทธิแรงงานอังกฤษให้สัมภาษณ์\n",
      "Label: ยกฟ้องคดีโรงงานสับปะรดฟ้องนักสิทธิแรงงานอังกฤษให้สัมภาษณ์สื่อ\n",
      "Prediction: พิพากษา   ฟ้อง หนังสือเสรีภาพ  (กําลังใจ \n"
     ]
    },
    {
     "name": "stderr",
     "output_type": "stream",
     "text": [
      "100%|██████████████████████████████████████████████████████████████████████████████████████████████████████████████████████████████████████████████████████████████████████████| 5000/5000 [03:43<00:00, 22.36it/s]\n"
     ]
    },
    {
     "name": "stdout",
     "output_type": "stream",
     "text": [
      "Input: ตัวแทนเครือข่ายปฏิรูปที่ภาคอีสาน (คปอ.) ตัวแทน\n",
      "Label: เครือข่ายปฏิรูปที่ภาคอีสาน (คปอ.) ตัวแทนกลุ่ม\n",
      "Prediction: ประเทศไทยการกฎหมาย  <unk>..  กเกษตรกร\n"
     ]
    },
    {
     "name": "stderr",
     "output_type": "stream",
     "text": [
      "100%|██████████████████████████████████████████████████████████████████████████████████████████████████████████████████████████████████████████████████████████████████████████| 1000/1000 [00:20<00:00, 49.63it/s]\n"
     ]
    },
    {
     "name": "stdout",
     "output_type": "stream",
     "text": [
      "Epoch 62, Train Loss: 3.6220, Validation Loss: 7.9534\n",
      "Saved Best Train loss Model\n"
     ]
    },
    {
     "name": "stderr",
     "output_type": "stream",
     "text": [
      " 20%|██████████████████████████████████                                                                                                                                        | 1002/5000 [00:45<02:58, 22.41it/s]"
     ]
    },
    {
     "name": "stdout",
     "output_type": "stream",
     "text": [
      "Input: นปช.ประกาศเลื่อนชุมนุมใหญ่ 18 เม.ย\n",
      "Label: .ประกาศเลื่อนชุมนุมใหญ่ 18 เม.ย.\n",
      "Prediction: .คจุดยืนฟังก็ทําได้ <unk> พ.ค.\n"
     ]
    },
    {
     "name": "stderr",
     "output_type": "stream",
     "text": [
      " 40%|████████████████████████████████████████████████████████████████████                                                                                                      | 2002/5000 [01:30<02:14, 22.34it/s]"
     ]
    },
    {
     "name": "stdout",
     "output_type": "stream",
     "text": [
      "Input: 10 มิ.ย.53 เยาวชนปลูกต้นไม้ 2\n",
      "Label: มิ.ย.53 เยาวชนปลูกต้นไม้ 2 \n",
      "Prediction: พ..  เวลาพชาว พ \n"
     ]
    },
    {
     "name": "stderr",
     "output_type": "stream",
     "text": [
      " 60%|██████████████████████████████████████████████████████████████████████████████████████████████████████                                                                    | 3003/5000 [02:15<01:26, 23.04it/s]"
     ]
    },
    {
     "name": "stdout",
     "output_type": "stream",
     "text": [
      "Input: คณะทํางานสื่อเพื่อการปฏิรูปยื่นหนังสือกฤษฎีกา ขอให้ชะลอการเสนอร่าง \n",
      "Label: สื่อเพื่อการปฏิรูปยื่นหนังสือกฤษฎีกา ขอให้ชะลอการเสนอร่าง พ\n",
      "Prediction: ยุติธรรมไทยการปฏิรูปสื่อหนังสือพิมพ์จัดระเบียบหยุดพิจารณาวาระ พ\n"
     ]
    },
    {
     "name": "stderr",
     "output_type": "stream",
     "text": [
      " 80%|████████████████████████████████████████████████████████████████████████████████████████████████████████████████████████████████████████                                  | 4003/5000 [03:00<00:45, 22.06it/s]"
     ]
    },
    {
     "name": "stdout",
     "output_type": "stream",
     "text": [
      "Input: ชูวิทย์ โต้ 'เนติวิทย์' เรียนหนังสือไม่ใช่รับใช้ชาติ\n",
      "Label: โต้ 'เนติวิทย์' เรียนหนังสือไม่ใช่รับใช้ชาติ แต่\n",
      "Prediction: พถ<unk>วิทย์  ก ต่อปรากฏการณ์ \n"
     ]
    },
    {
     "name": "stderr",
     "output_type": "stream",
     "text": [
      "100%|██████████████████████████████████████████████████████████████████████████████████████████████████████████████████████████████████████████████████████████████████████████| 5000/5000 [03:44<00:00, 22.25it/s]\n"
     ]
    },
    {
     "name": "stdout",
     "output_type": "stream",
     "text": [
      "Input: 23-24 เมษายน 2551 1 เราติดตามคณะทนายความ\n",
      "Label: 4 เมษายน 2551 1 เราติดตามคณะทนายความของสภา\n",
      "Prediction: 4 พ พ <unk> พปรัฐศาสตร์เพื่อ\n"
     ]
    },
    {
     "name": "stderr",
     "output_type": "stream",
     "text": [
      "100%|██████████████████████████████████████████████████████████████████████████████████████████████████████████████████████████████████████████████████████████████████████████| 1000/1000 [00:19<00:00, 50.35it/s]\n"
     ]
    },
    {
     "name": "stdout",
     "output_type": "stream",
     "text": [
      "Epoch 63, Train Loss: 3.6208, Validation Loss: 7.8758\n",
      "Saved Best Train loss Model\n"
     ]
    },
    {
     "name": "stderr",
     "output_type": "stream",
     "text": [
      " 20%|██████████████████████████████████                                                                                                                                        | 1003/5000 [00:46<03:06, 21.46it/s]"
     ]
    },
    {
     "name": "stdout",
     "output_type": "stream",
     "text": [
      "Input: ระหว่างวันที่วันที่ 10 - 12 มิถุนายน 2551\n",
      "Label: วันที่วันที่ 10 - 12 มิถุนายน 2551 \n",
      "Prediction: รัฐบาล  ก  <unk> ก ก \n"
     ]
    },
    {
     "name": "stderr",
     "output_type": "stream",
     "text": [
      " 40%|████████████████████████████████████████████████████████████████████                                                                                                      | 2001/5000 [01:31<02:21, 21.24it/s]"
     ]
    },
    {
     "name": "stdout",
     "output_type": "stream",
     "text": [
      "Input: 13 พ.ย. 55 - ในการประชุม\n",
      "Label: พ.ย. 55 - ในการประชุมร่วมกัน\n",
      "Prediction: ก.. ก - กประเทศไทยองค์การ\n"
     ]
    },
    {
     "name": "stderr",
     "output_type": "stream",
     "text": [
      " 60%|██████████████████████████████████████████████████████████████████████████████████████████████████████                                                                    | 3002/5000 [02:17<01:33, 21.39it/s]"
     ]
    },
    {
     "name": "stdout",
     "output_type": "stream",
     "text": [
      "Input: ให้ใครที่สามารถทําได้ กรุณาหาทางถ่ายทอดข้อความต่อไปนี้ ผ่านไปยัง \n",
      "Label: ที่สามารถทําได้ กรุณาหาทางถ่ายทอดข้อความต่อไปนี้ ผ่านไปยัง ส\n",
      "Prediction: หยดิตจอมเกล้าเหาทางถ่ายทอดการชุมนุมจาก คือพ  พ\n"
     ]
    },
    {
     "name": "stderr",
     "output_type": "stream",
     "text": [
      " 80%|████████████████████████████████████████████████████████████████████████████████████████████████████████████████████████████████████████                                  | 4002/5000 [03:03<00:45, 22.05it/s]"
     ]
    },
    {
     "name": "stdout",
     "output_type": "stream",
     "text": [
      "Input: ทราบผลการลงประชามติรับหรือไม่รับร่างรัฐธรรมนูญปี 2550 ทุกอย่างมุ่งหน้า\n",
      "Label: การลงประชามติรับหรือไม่รับร่างรัฐธรรมนูญปี 2550 ทุกอย่างมุ่งหน้าไปสู่การ\n",
      "Prediction: การเลือกตั้งร่างหลักการ รัฐธรรมนูญ  <unk> ปรึกษาจิร\n"
     ]
    },
    {
     "name": "stderr",
     "output_type": "stream",
     "text": [
      "100%|██████████████████████████████████████████████████████████████████████████████████████████████████████████████████████████████████████████████████████████████████████████| 5000/5000 [03:47<00:00, 21.94it/s]\n"
     ]
    },
    {
     "name": "stdout",
     "output_type": "stream",
     "text": [
      "Input: รายงานพิเศษ : ขบวนการอนาธิปไตยสีเขียวที่เยอรมัน\n",
      "Label: พิเศษ : ขบวนการอนาธิปไตยสีเขียวที่เยอรมัน \n",
      "Prediction: เมื่อวันภาคพ พเคลื่อนไหว  เป็นเดินหน้า  \n"
     ]
    },
    {
     "name": "stderr",
     "output_type": "stream",
     "text": [
      "100%|██████████████████████████████████████████████████████████████████████████████████████████████████████████████████████████████████████████████████████████████████████████| 1000/1000 [00:20<00:00, 48.68it/s]\n"
     ]
    },
    {
     "name": "stdout",
     "output_type": "stream",
     "text": [
      "Epoch 64, Train Loss: 3.6180, Validation Loss: 7.8924\n",
      "Saved Best Train loss Model\n"
     ]
    },
    {
     "name": "stderr",
     "output_type": "stream",
     "text": [
      " 20%|██████████████████████████████████                                                                                                                                        | 1002/5000 [00:45<03:08, 21.25it/s]"
     ]
    },
    {
     "name": "stdout",
     "output_type": "stream",
     "text": [
      "Input: สถานการณ์ปี 2553 จะเป็นอย่างไร? ใครจะไปรู้ ไม่ใช่\n",
      "Label: ปี 2553 จะเป็นอย่างไร? ใครจะไปรู้ ไม่ใช่หมอดู\n",
      "Prediction: การเมือง พ พป  พรู้คําตัดสินคํา\n"
     ]
    },
    {
     "name": "stderr",
     "output_type": "stream",
     "text": [
      " 40%|████████████████████████████████████████████████████████████████████                                                                                                      | 2003/5000 [01:29<02:10, 22.92it/s]"
     ]
    },
    {
     "name": "stdout",
     "output_type": "stream",
     "text": [
      "Input: บอกว่าขณะนี้เราอยู่ในยุคแนวคิด \"ประเทศไทย 4.0\" บางคนก็อาจ\n",
      "Label: ขณะนี้เราอยู่ในยุคแนวคิด \"ประเทศไทย 4.0\" บางคนก็อาจเถียง\n",
      "Prediction: พวกคุณ ในยุคโลกการแบ่งแยกจาตุรนต์ พ\" ขยายตัวเถียง\n"
     ]
    },
    {
     "name": "stderr",
     "output_type": "stream",
     "text": [
      " 60%|██████████████████████████████████████████████████████████████████████████████████████████████████████                                                                    | 3001/5000 [02:13<01:30, 22.11it/s]"
     ]
    },
    {
     "name": "stdout",
     "output_type": "stream",
     "text": [
      "Input: 11 ก.ย. 51 - ผู้สื่อข่าวรายงานว่า\n",
      "Label: ก.ย. 51 - ผู้สื่อข่าวรายงานว่าขณะนี้\n",
      "Prediction: พ.ค.คพ  พวรายงานว่า \n"
     ]
    },
    {
     "name": "stderr",
     "output_type": "stream",
     "text": [
      " 80%|████████████████████████████████████████████████████████████████████████████████████████████████████████████████████████████████████████                                  | 4003/5000 [02:58<00:46, 21.38it/s]"
     ]
    },
    {
     "name": "stdout",
     "output_type": "stream",
     "text": [
      "Input: - 13 มิ.ย. 50 กานต์\n",
      "Label: 13 มิ.ย. 50 กานต์ \n",
      "Prediction: ก พ.. พ พ \n"
     ]
    },
    {
     "name": "stderr",
     "output_type": "stream",
     "text": [
      "100%|██████████████████████████████████████████████████████████████████████████████████████████████████████████████████████████████████████████████████████████████████████████| 5000/5000 [03:44<00:00, 22.30it/s]\n"
     ]
    },
    {
     "name": "stdout",
     "output_type": "stream",
     "text": [
      "Input: คนงานยื่น 5 ข้อเรียกร้อง รับรองอนุสัญญา <unk> \n",
      "Label: ยื่น 5 ข้อเรียกร้อง รับรองอนุสัญญา <unk> 87\n",
      "Prediction: แห่งหนังสือพ ถึง พคดีว่าด้วยพ พ\n"
     ]
    },
    {
     "name": "stderr",
     "output_type": "stream",
     "text": [
      "100%|██████████████████████████████████████████████████████████████████████████████████████████████████████████████████████████████████████████████████████████████████████████| 1000/1000 [00:20<00:00, 48.02it/s]\n"
     ]
    },
    {
     "name": "stdout",
     "output_type": "stream",
     "text": [
      "Epoch 65, Train Loss: 3.6198, Validation Loss: 7.9564\n"
     ]
    },
    {
     "name": "stderr",
     "output_type": "stream",
     "text": [
      " 20%|██████████████████████████████████▏                                                                                                                                       | 1004/5000 [00:45<02:54, 22.93it/s]"
     ]
    },
    {
     "name": "stdout",
     "output_type": "stream",
     "text": [
      "Input: เทิดศักดิ์ เศรษฐมานพ อธิบดีกรมทางหลวง เปิดเผยว่า \n",
      "Label: ศักดิ์ เศรษฐมานพ อธิบดีกรมทางหลวง เปิดเผยว่า กรมทางหลวง\n",
      "Prediction: ศักดิ์ กศาสตร์ให้ความรู้.พบัญชีกลาง ก พ\n"
     ]
    },
    {
     "name": "stderr",
     "output_type": "stream",
     "text": [
      " 40%|████████████████████████████████████████████████████████████████████                                                                                                      | 2002/5000 [01:30<02:20, 21.40it/s]"
     ]
    },
    {
     "name": "stdout",
     "output_type": "stream",
     "text": [
      "Input: ..โลกนี้โหดร้ายไปไหมหนูจู่จู่รวง\n",
      "Label: .โลกนี้โหดร้ายไปไหมหนูจู่จู่รวงรัง\n",
      "Prediction: คคโหดร้ายไปนครบาลแสงเป็นกษัตริย์ เล็กย์สวรรค์\n"
     ]
    },
    {
     "name": "stderr",
     "output_type": "stream",
     "text": [
      " 60%|██████████████████████████████████████████████████████████████████████████████████████████████████████                                                                    | 3003/5000 [02:16<01:36, 20.72it/s]"
     ]
    },
    {
     "name": "stdout",
     "output_type": "stream",
     "text": [
      "Input: เหตุการณ์การสลายการชุมนุมในเดือนเมษายน - พฤษภาคม 2553 ที่ผ่านมา\n",
      "Label: การสลายการชุมนุมในเดือนเมษายน - พฤษภาคม 2553 ที่ผ่านมาได้\n",
      "Prediction: การชุมนุมบริเวณกันยายน  พ ก พ \n"
     ]
    },
    {
     "name": "stderr",
     "output_type": "stream",
     "text": [
      " 80%|████████████████████████████████████████████████████████████████████████████████████████████████████████████████████████████████████████                                  | 4001/5000 [03:02<00:48, 20.77it/s]"
     ]
    },
    {
     "name": "stdout",
     "output_type": "stream",
     "text": [
      "Input: แกนนําเสื้อแดงเชียงรายเผยผ่าน facebook อัยการสั่งไม่ฟ้อง\n",
      "Label: เสื้อแดงเชียงรายเผยผ่าน facebook อัยการสั่งไม่ฟ้อง \n",
      "Prediction: พันธมิตรเปิดออก ร่างพ พภาคปลดนานมานี้ '\n"
     ]
    },
    {
     "name": "stderr",
     "output_type": "stream",
     "text": [
      "100%|██████████████████████████████████████████████████████████████████████████████████████████████████████████████████████████████████████████████████████████████████████████| 5000/5000 [03:47<00:00, 21.93it/s]\n"
     ]
    },
    {
     "name": "stdout",
     "output_type": "stream",
     "text": [
      "Input: 17 พ.ค. 56 - ขบวนการประชาชน\n",
      "Label: พ.ค. 56 - ขบวนการประชาชนเพื่อสังคม\n",
      "Prediction: พ.. พ) กประชาชน \n"
     ]
    },
    {
     "name": "stderr",
     "output_type": "stream",
     "text": [
      "100%|██████████████████████████████████████████████████████████████████████████████████████████████████████████████████████████████████████████████████████████████████████████| 1000/1000 [00:19<00:00, 52.00it/s]\n"
     ]
    },
    {
     "name": "stdout",
     "output_type": "stream",
     "text": [
      "Epoch 66, Train Loss: 3.6132, Validation Loss: 7.9136\n",
      "Saved Best Train loss Model\n"
     ]
    },
    {
     "name": "stderr",
     "output_type": "stream",
     "text": [
      " 20%|██████████████████████████████████▏                                                                                                                                       | 1004/5000 [00:39<02:56, 22.69it/s]"
     ]
    },
    {
     "name": "stdout",
     "output_type": "stream",
     "text": [
      "Input: ในประวัติที่เป็นทางการของพรรคคอมมิวนิสต์แห่งประเทศไทย ถือว่า วันที่ \n",
      "Label: ที่เป็นทางการของพรรคคอมมิวนิสต์แห่งประเทศไทย ถือว่า วันที่ 1\n",
      "Prediction: ศาสตร์ แล้วลิ.ไทยแรกของ พสะเทือน <unk>\n"
     ]
    },
    {
     "name": "stderr",
     "output_type": "stream",
     "text": [
      " 40%|████████████████████████████████████████████████████████████████████                                                                                                      | 2002/5000 [01:23<02:10, 22.97it/s]"
     ]
    },
    {
     "name": "stdout",
     "output_type": "stream",
     "text": [
      "Input: ข่าวภาคเหนือ-23 ธ.ค.47 \"พฤติกรรมเหล่านี้\n",
      "Label: ภาคเหนือ-23 ธ.ค.47 \"พฤติกรรมเหล่านี้ \n",
      "Prediction: ภาคเหนือ- ก.ค.ค สมชายการต่อต้าน \n"
     ]
    },
    {
     "name": "stderr",
     "output_type": "stream",
     "text": [
      " 60%|██████████████████████████████████████████████████████████████████████████████████████████████████████                                                                    | 3002/5000 [02:09<01:31, 21.89it/s]"
     ]
    },
    {
     "name": "stdout",
     "output_type": "stream",
     "text": [
      "Input: เที่ยงวานนี้ (4 ก.ย.) ที่\n",
      "Label: วานนี้ (4 ก.ย.) ที่บันได\n",
      "Prediction: วันนี้ <unk> พ.ค.ค <unk> \n"
     ]
    },
    {
     "name": "stderr",
     "output_type": "stream",
     "text": [
      " 80%|████████████████████████████████████████████████████████████████████████████████████████████████████████████████████████████████████████                                  | 4001/5000 [02:54<00:43, 22.87it/s]"
     ]
    },
    {
     "name": "stdout",
     "output_type": "stream",
     "text": [
      "Input: - 22 พ.ค.50 ตามที่เครือข่ายองค์กรผู้บริโภค\n",
      "Label: 22 พ.ค.50 ตามที่เครือข่ายองค์กรผู้บริโภค \n",
      "Prediction: พ พ..  นายปฏิรูปพัฒนาเอกชนในกิจการ\n"
     ]
    },
    {
     "name": "stderr",
     "output_type": "stream",
     "text": [
      "100%|██████████████████████████████████████████████████████████████████████████████████████████████████████████████████████████████████████████████████████████████████████████| 5000/5000 [03:39<00:00, 22.79it/s]\n"
     ]
    },
    {
     "name": "stdout",
     "output_type": "stream",
     "text": [
      "Input: เราสามารถจะใช้กูเกิ้ล (<unk>oogle) ค้นหาอะไรก็ได้\n",
      "Label: จะใช้กูเกิ้ล (<unk>oogle) ค้นหาอะไรก็ได้ตั้งแต่\n",
      "Prediction: จะใช้ความรุนแรง (<unk> dle  พนิยามตั้งแต่\n"
     ]
    },
    {
     "name": "stderr",
     "output_type": "stream",
     "text": [
      "100%|██████████████████████████████████████████████████████████████████████████████████████████████████████████████████████████████████████████████████████████████████████████| 1000/1000 [00:21<00:00, 46.80it/s]\n"
     ]
    },
    {
     "name": "stdout",
     "output_type": "stream",
     "text": [
      "Epoch 67, Train Loss: 3.6120, Validation Loss: 8.0205\n",
      "Saved Best Train loss Model\n"
     ]
    },
    {
     "name": "stderr",
     "output_type": "stream",
     "text": [
      " 20%|██████████████████████████████████▏                                                                                                                                       | 1004/5000 [00:46<02:56, 22.70it/s]"
     ]
    },
    {
     "name": "stdout",
     "output_type": "stream",
     "text": [
      "Input: ผ่านไปแล้วสําหรับค่ายเด็กและเยาวชน ภายใต้ชื่อ “เยาวชนฮักบ้าน\n",
      "Label: แล้วสําหรับค่ายเด็กและเยาวชน ภายใต้ชื่อ “เยาวชนฮักบ้านเจ้าของ\n",
      "Prediction: แล้ว ทําบัตรตะวันตกอีสาน พ “รําลึกกลุ่มบ้าน \n"
     ]
    },
    {
     "name": "stderr",
     "output_type": "stream",
     "text": [
      " 40%|████████████████████████████████████████████████████████████████████                                                                                                      | 2001/5000 [01:32<02:29, 20.04it/s]"
     ]
    },
    {
     "name": "stdout",
     "output_type": "stream",
     "text": [
      "Input: สหรัฐตัดสินคดีลูกครึ่งฮิสปานิคยิงวัยรุ่นผิวดําจน\n",
      "Label: ตัดสินคดีลูกครึ่งฮิสปานิคยิงวัยรุ่นผิวดําจนเสียชีวิต\n",
      "Prediction: อเมริกาอาจฮิง.ระชาธิปไตย คนกรรมการก็มีจนเคย\n"
     ]
    },
    {
     "name": "stderr",
     "output_type": "stream",
     "text": [
      " 60%|██████████████████████████████████████████████████████████████████████████████████████████████████████                                                                    | 3003/5000 [02:15<01:11, 27.99it/s]"
     ]
    },
    {
     "name": "stdout",
     "output_type": "stream",
     "text": [
      "Input: รองนายกรัฐมนตรีด้านความมั่นคงไม่พอใจหลัง “ฮิวแมนไรต์ \n",
      "Label: รัฐมนตรีด้านความมั่นคงไม่พอใจหลัง “ฮิวแมนไรต์ วอ\n",
      "Prediction: รัฐมนตรี ตรงข้ามแห่งชาติแผนมีผู้<unk>แมนไรท์ต์พูดถึง<unk>\n"
     ]
    },
    {
     "name": "stderr",
     "output_type": "stream",
     "text": [
      " 80%|████████████████████████████████████████████████████████████████████████████████████████████████████████████████████████████████████████                                  | 4002/5000 [02:56<00:45, 21.88it/s]"
     ]
    },
    {
     "name": "stdout",
     "output_type": "stream",
     "text": [
      "Input: ข่มขืนและฆ่าเด็กบนรถไฟตอนกลางคืนเป็นอาชญากรรมที่น่าชิงชัง\n",
      "Label: และฆ่าเด็กบนรถไฟตอนกลางคืนเป็นอาชญากรรมที่น่าชิงชังรังเกียจ\n",
      "Prediction: สร้างความเครือข่ายเอก เครือข่าย เป็นสื่อ’เป็นห่วงตํารังเกียจ\n"
     ]
    },
    {
     "name": "stderr",
     "output_type": "stream",
     "text": [
      "100%|██████████████████████████████████████████████████████████████████████████████████████████████████████████████████████████████████████████████████████████████████████████| 5000/5000 [03:42<00:00, 22.51it/s]\n"
     ]
    },
    {
     "name": "stdout",
     "output_type": "stream",
     "text": [
      "Input: 1 ก.พ.2559 ตัวแทนสภาประชาชนเพื่อการปฏิรูป\n",
      "Label: ก.พ.2559 ตัวแทนสภาประชาชนเพื่อการปฏิรูป (\n",
      "Prediction: พ.ค. พเครือข่ายประชาสังคม สิประเทศ\n"
     ]
    },
    {
     "name": "stderr",
     "output_type": "stream",
     "text": [
      "100%|██████████████████████████████████████████████████████████████████████████████████████████████████████████████████████████████████████████████████████████████████████████| 1000/1000 [00:20<00:00, 48.07it/s]\n"
     ]
    },
    {
     "name": "stdout",
     "output_type": "stream",
     "text": [
      "Epoch 68, Train Loss: 3.6116, Validation Loss: 7.8674\n",
      "Saved Best Train loss Model\n"
     ]
    },
    {
     "name": "stderr",
     "output_type": "stream",
     "text": [
      " 20%|██████████████████████████████████                                                                                                                                        | 1003/5000 [00:46<03:02, 21.88it/s]"
     ]
    },
    {
     "name": "stdout",
     "output_type": "stream",
     "text": [
      "Input: ประยุทธ์ สวนชาวประมงปัตตานี \"อย่ามาส่งเสียงกับผม\" ย้ํา\n",
      "Label: สวนชาวประมงปัตตานี \"อย่ามาส่งเสียงกับผม\" ย้ํากดดัน\n",
      "Prediction: พดุสิตปัตตานี ดีส่งเสียงกับผม\" <unk>ไม่เห็น\n"
     ]
    },
    {
     "name": "stderr",
     "output_type": "stream",
     "text": [
      " 40%|████████████████████████████████████████████████████████████████████                                                                                                      | 2003/5000 [01:33<02:15, 22.17it/s]"
     ]
    },
    {
     "name": "stdout",
     "output_type": "stream",
     "text": [
      "Input: ภาษี\" คําสั้นๆ สองพยางค์ที่ใครก็ไม่อยากได้ยิน เพราะ\n",
      "Label: \" คําสั้นๆ สองพยางค์ที่ใครก็ไม่อยากได้ยิน เพราะได้ยิน\n",
      "Prediction: : ไว้อาลัย พหมื่นคนที่ ห้ามได้ยินบ่อยครั้งสื่อ\n"
     ]
    },
    {
     "name": "stderr",
     "output_type": "stream",
     "text": [
      " 60%|██████████████████████████████████████████████████████████████████████████████████████████████████████                                                                    | 3001/5000 [02:19<01:34, 21.12it/s]"
     ]
    },
    {
     "name": "stdout",
     "output_type": "stream",
     "text": [
      "Input: 09.30 น. ที่รัฐสภา มีการประชุมกรรมาธิการยกร่าง\n",
      "Label: 09.30 น. ที่รัฐสภา มีการประชุมกรรมาธิการยกร่างรัฐธรรมนูญ\n",
      "Prediction: <unk> พ. ก ลงมติ.ครมทหาร \n"
     ]
    },
    {
     "name": "stderr",
     "output_type": "stream",
     "text": [
      " 80%|████████████████████████████████████████████████████████████████████████████████████████████████████████████████████████████████████████▏                                 | 4004/5000 [03:04<00:45, 21.88it/s]"
     ]
    },
    {
     "name": "stdout",
     "output_type": "stream",
     "text": [
      "Input: หลังจากที่วุฒิสภาปัด“ร่างพระราชบัญญัตินิรโทษกรรมแก่ผู้ซึ่งกระทําความผิดเนื่องจาก\n",
      "Label: วุฒิสภาปัด“ร่างพระราชบัญญัตินิรโทษกรรมแก่ผู้ซึ่งกระทําความผิดเนื่องจากการชุมนุม\n",
      "Prediction: ได้มีการเห็นชอบข่าวยงค์บัญญัติแห่งชาติสากลประเทศไทยเขียนความผิดสื่อสถานการณ์\n"
     ]
    },
    {
     "name": "stderr",
     "output_type": "stream",
     "text": [
      "100%|██████████████████████████████████████████████████████████████████████████████████████████████████████████████████████████████████████████████████████████████████████████| 5000/5000 [03:49<00:00, 21.74it/s]\n"
     ]
    },
    {
     "name": "stdout",
     "output_type": "stream",
     "text": [
      "Input: .อ.ประยุทธ์ ยันไม่กังวลชี้แจงประเด็นสิทธิมนุษยชน\n",
      "Label: อ.ประยุทธ์ ยันไม่กังวลชี้แจงประเด็นสิทธิมนุษยชน \n",
      "Prediction: .  <unk>ไม่นานมานี้ปัญหาเรื่อง ทธิมนุษยชน \n"
     ]
    },
    {
     "name": "stderr",
     "output_type": "stream",
     "text": [
      "100%|██████████████████████████████████████████████████████████████████████████████████████████████████████████████████████████████████████████████████████████████████████████| 1000/1000 [00:21<00:00, 47.34it/s]\n"
     ]
    },
    {
     "name": "stdout",
     "output_type": "stream",
     "text": [
      "Epoch 69, Train Loss: 3.6103, Validation Loss: 7.9638\n",
      "Saved Best Train loss Model\n"
     ]
    },
    {
     "name": "stderr",
     "output_type": "stream",
     "text": [
      " 20%|██████████████████████████████████                                                                                                                                        | 1001/5000 [00:46<03:04, 21.70it/s]"
     ]
    },
    {
     "name": "stdout",
     "output_type": "stream",
     "text": [
      "Input: มูลนิธิผสานวัฒนธรรมออกแถลงการณ์ตั้งคําถาม 5 ข้อถึงการเข้าถึงความ\n",
      "Label: ผสานวัฒนธรรมออกแถลงการณ์ตั้งคําถาม 5 ข้อถึงการเข้าถึงความยุติธรรม\n",
      "Prediction: เพื่อวัฒนธรรมฯนอกระบบฉบับที่ที่ก ถึงนองความเกลียดชัง\n"
     ]
    },
    {
     "name": "stderr",
     "output_type": "stream",
     "text": [
      " 40%|████████████████████████████████████████████████████████████████████                                                                                                      | 2001/5000 [01:32<02:24, 20.78it/s]"
     ]
    },
    {
     "name": "stdout",
     "output_type": "stream",
     "text": [
      "Input: ที่ 7 เมษายน 2558 ทางคณะกรรมการสอบข้อเท็จจริง\n",
      "Label: 7 เมษายน 2558 ทางคณะกรรมการสอบข้อเท็จจริง กรณี\n",
      "Prediction: พ พ พ พการเมืองกิจการกจริง \n"
     ]
    },
    {
     "name": "stderr",
     "output_type": "stream",
     "text": [
      " 60%|██████████████████████████████████████████████████████████████████████████████████████████████████████                                                                    | 3002/5000 [02:18<01:36, 20.75it/s]"
     ]
    },
    {
     "name": "stdout",
     "output_type": "stream",
     "text": [
      "Input: สํานักงานข้าหลวงใหญ่เพื่อสิทธิมนุษยชน ยูเอ็น ห่วงกรณีเจ้าหน้า\n",
      "Label: ข้าหลวงใหญ่เพื่อสิทธิมนุษยชน ยูเอ็น ห่วงกรณีเจ้าหน้าที่\n",
      "Prediction: ข้าหลวงใหญ่หวนสิทธิมนุษยชน <unk>ออก<unk>ความ ที่ตํารวจ\n"
     ]
    },
    {
     "name": "stderr",
     "output_type": "stream",
     "text": [
      " 80%|████████████████████████████████████████████████████████████████████████████████████████████████████████████████████████████████████████                                  | 4003/5000 [03:05<00:44, 22.60it/s]"
     ]
    },
    {
     "name": "stdout",
     "output_type": "stream",
     "text": [
      "Input: ก่อนหน้านี้ประธานาธิบดีศรีลังกาสั่งยุบสภาและถอดถอนนายกรัฐมนตรีร\n",
      "Label: นี้ประธานาธิบดีศรีลังกาสั่งยุบสภาและถอดถอนนายกรัฐมนตรีรา\n",
      "Prediction: นี้ว่า ดีฟ \"ไม่แล้วคดีจากกรัฐมนตรี.\n"
     ]
    },
    {
     "name": "stderr",
     "output_type": "stream",
     "text": [
      "100%|██████████████████████████████████████████████████████████████████████████████████████████████████████████████████████████████████████████████████████████████████████████| 5000/5000 [03:51<00:00, 21.62it/s]\n"
     ]
    },
    {
     "name": "stdout",
     "output_type": "stream",
     "text": [
      "Input: การเมือง เตรียมโละทิ้ง 251 กก. ครม\n",
      "Label: เตรียมโละทิ้ง 251 กก. ครม.\n",
      "Prediction: จัดละทิ้ง พ  ก. พ.\n"
     ]
    },
    {
     "name": "stderr",
     "output_type": "stream",
     "text": [
      "100%|██████████████████████████████████████████████████████████████████████████████████████████████████████████████████████████████████████████████████████████████████████████| 1000/1000 [00:20<00:00, 48.83it/s]\n"
     ]
    },
    {
     "name": "stdout",
     "output_type": "stream",
     "text": [
      "Epoch 70, Train Loss: 3.6036, Validation Loss: 8.0575\n",
      "Saved Best Train loss Model\n",
      "Training Complete\n"
     ]
    }
   ],
   "source": [
    "epochs = 70\n",
    "show_prediction = 1000\n",
    "best_val_loss = np.inf\n",
    "best_train_loss = np.inf\n",
    "for epoch in range(epochs):\n",
    "    train_loss = train_epoch(model, train_loader, loss_fn, optimizer, device, show_prediction)\n",
    "    val_loss = validate_epoch(model, val_loader, loss_fn, device)\n",
    "    \n",
    "    print(f\"Epoch {epoch+1}, Train Loss: {train_loss:.4f}, Validation Loss: {val_loss:.4f}\")\n",
    "    \n",
    "    if train_loss < best_train_loss:\n",
    "        best_train_loss = train_loss\n",
    "        torch.save(model.state_dict(), \"best_train_loss_model.pth\")\n",
    "        print(\"Saved Best Train loss Model\")\n",
    "    if val_loss < best_val_loss:\n",
    "        best_val_loss = val_loss\n",
    "        torch.save(model.state_dict(), \"best_val_loss_model.pth\")\n",
    "        print(\"Saved Best Val loss Model\")\n",
    "\n",
    "print(\"Training Complete\")"
   ]
  },
  {
   "cell_type": "code",
   "execution_count": null,
   "id": "d86199c8-caf7-4768-b841-a37508d654f5",
   "metadata": {},
   "outputs": [],
   "source": []
  }
 ],
 "metadata": {
  "kernelspec": {
   "display_name": "Python 3 (ipykernel)",
   "language": "python",
   "name": "python3"
  },
  "language_info": {
   "codemirror_mode": {
    "name": "ipython",
    "version": 3
   },
   "file_extension": ".py",
   "mimetype": "text/x-python",
   "name": "python",
   "nbconvert_exporter": "python",
   "pygments_lexer": "ipython3",
   "version": "3.10.6"
  }
 },
 "nbformat": 4,
 "nbformat_minor": 5
}
